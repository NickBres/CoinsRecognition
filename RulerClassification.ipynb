{
 "cells": [
  {
   "cell_type": "code",
   "id": "initial_id",
   "metadata": {
    "collapsed": true,
    "ExecuteTime": {
     "end_time": "2025-02-27T13:49:07.828443Z",
     "start_time": "2025-02-27T13:49:07.802281Z"
    }
   },
   "source": [
    "import pandas as pd\n",
    "\n",
    "# Load the dataset\n",
    "df = pd.read_csv(\"data.csv\")\n",
    "\n",
    "# Display the first few rows\n",
    "df.head()\n"
   ],
   "outputs": [
    {
     "data": {
      "text/plain": [
       "            Filename      Class  Image_Width  Image_Height  A_Count  A_AvgX  \\\n",
       "0  Alexander_204.png  Alexander       1880.0        1880.0      0.0     0.0   \n",
       "1   Alexander_42.png  Alexander       1604.0        1604.0      0.0     0.0   \n",
       "2   Alexander_56.png  Alexander        543.0         543.0      0.0     0.0   \n",
       "3   Alexander_95.png  Alexander        521.0         521.0      0.0     0.0   \n",
       "4  Alexander_199.png  Alexander        377.0         377.0      0.0     0.0   \n",
       "\n",
       "   A_AvgY  A_StdX  A_StdY  A_BoxRatio  ...  Resh_AvgY  Resh_StdX  Resh_StdY  \\\n",
       "0     0.0     0.0     0.0         0.0  ...        0.0        0.0        0.0   \n",
       "1     0.0     0.0     0.0         0.0  ...        0.0        0.0        0.0   \n",
       "2     0.0     0.0     0.0         0.0  ...        0.0        0.0        0.0   \n",
       "3     0.0     0.0     0.0         0.0  ...      360.5        0.0        0.0   \n",
       "4     0.0     0.0     0.0         0.0  ...        0.0        0.0        0.0   \n",
       "\n",
       "   Resh_BoxRatio  Taf_Count  Taf_AvgX  Taf_AvgY  Taf_StdX  Taf_StdY  \\\n",
       "0       0.000000        0.0       0.0       0.0       0.0       0.0   \n",
       "1       0.000000        1.0     714.5     367.5       0.0       0.0   \n",
       "2       0.000000        1.0     455.5     238.5       0.0       0.0   \n",
       "3       0.865672        1.0     209.5     227.0       0.0       0.0   \n",
       "4       0.000000        1.0     274.0     140.5       0.0       0.0   \n",
       "\n",
       "   Taf_BoxRatio  \n",
       "0      0.000000  \n",
       "1      0.590106  \n",
       "2      1.092308  \n",
       "3      0.618421  \n",
       "4      0.915254  \n",
       "\n",
       "[5 rows x 88 columns]"
      ],
      "text/html": [
       "<div>\n",
       "<style scoped>\n",
       "    .dataframe tbody tr th:only-of-type {\n",
       "        vertical-align: middle;\n",
       "    }\n",
       "\n",
       "    .dataframe tbody tr th {\n",
       "        vertical-align: top;\n",
       "    }\n",
       "\n",
       "    .dataframe thead th {\n",
       "        text-align: right;\n",
       "    }\n",
       "</style>\n",
       "<table border=\"1\" class=\"dataframe\">\n",
       "  <thead>\n",
       "    <tr style=\"text-align: right;\">\n",
       "      <th></th>\n",
       "      <th>Filename</th>\n",
       "      <th>Class</th>\n",
       "      <th>Image_Width</th>\n",
       "      <th>Image_Height</th>\n",
       "      <th>A_Count</th>\n",
       "      <th>A_AvgX</th>\n",
       "      <th>A_AvgY</th>\n",
       "      <th>A_StdX</th>\n",
       "      <th>A_StdY</th>\n",
       "      <th>A_BoxRatio</th>\n",
       "      <th>...</th>\n",
       "      <th>Resh_AvgY</th>\n",
       "      <th>Resh_StdX</th>\n",
       "      <th>Resh_StdY</th>\n",
       "      <th>Resh_BoxRatio</th>\n",
       "      <th>Taf_Count</th>\n",
       "      <th>Taf_AvgX</th>\n",
       "      <th>Taf_AvgY</th>\n",
       "      <th>Taf_StdX</th>\n",
       "      <th>Taf_StdY</th>\n",
       "      <th>Taf_BoxRatio</th>\n",
       "    </tr>\n",
       "  </thead>\n",
       "  <tbody>\n",
       "    <tr>\n",
       "      <th>0</th>\n",
       "      <td>Alexander_204.png</td>\n",
       "      <td>Alexander</td>\n",
       "      <td>1880.0</td>\n",
       "      <td>1880.0</td>\n",
       "      <td>0.0</td>\n",
       "      <td>0.0</td>\n",
       "      <td>0.0</td>\n",
       "      <td>0.0</td>\n",
       "      <td>0.0</td>\n",
       "      <td>0.0</td>\n",
       "      <td>...</td>\n",
       "      <td>0.0</td>\n",
       "      <td>0.0</td>\n",
       "      <td>0.0</td>\n",
       "      <td>0.000000</td>\n",
       "      <td>0.0</td>\n",
       "      <td>0.0</td>\n",
       "      <td>0.0</td>\n",
       "      <td>0.0</td>\n",
       "      <td>0.0</td>\n",
       "      <td>0.000000</td>\n",
       "    </tr>\n",
       "    <tr>\n",
       "      <th>1</th>\n",
       "      <td>Alexander_42.png</td>\n",
       "      <td>Alexander</td>\n",
       "      <td>1604.0</td>\n",
       "      <td>1604.0</td>\n",
       "      <td>0.0</td>\n",
       "      <td>0.0</td>\n",
       "      <td>0.0</td>\n",
       "      <td>0.0</td>\n",
       "      <td>0.0</td>\n",
       "      <td>0.0</td>\n",
       "      <td>...</td>\n",
       "      <td>0.0</td>\n",
       "      <td>0.0</td>\n",
       "      <td>0.0</td>\n",
       "      <td>0.000000</td>\n",
       "      <td>1.0</td>\n",
       "      <td>714.5</td>\n",
       "      <td>367.5</td>\n",
       "      <td>0.0</td>\n",
       "      <td>0.0</td>\n",
       "      <td>0.590106</td>\n",
       "    </tr>\n",
       "    <tr>\n",
       "      <th>2</th>\n",
       "      <td>Alexander_56.png</td>\n",
       "      <td>Alexander</td>\n",
       "      <td>543.0</td>\n",
       "      <td>543.0</td>\n",
       "      <td>0.0</td>\n",
       "      <td>0.0</td>\n",
       "      <td>0.0</td>\n",
       "      <td>0.0</td>\n",
       "      <td>0.0</td>\n",
       "      <td>0.0</td>\n",
       "      <td>...</td>\n",
       "      <td>0.0</td>\n",
       "      <td>0.0</td>\n",
       "      <td>0.0</td>\n",
       "      <td>0.000000</td>\n",
       "      <td>1.0</td>\n",
       "      <td>455.5</td>\n",
       "      <td>238.5</td>\n",
       "      <td>0.0</td>\n",
       "      <td>0.0</td>\n",
       "      <td>1.092308</td>\n",
       "    </tr>\n",
       "    <tr>\n",
       "      <th>3</th>\n",
       "      <td>Alexander_95.png</td>\n",
       "      <td>Alexander</td>\n",
       "      <td>521.0</td>\n",
       "      <td>521.0</td>\n",
       "      <td>0.0</td>\n",
       "      <td>0.0</td>\n",
       "      <td>0.0</td>\n",
       "      <td>0.0</td>\n",
       "      <td>0.0</td>\n",
       "      <td>0.0</td>\n",
       "      <td>...</td>\n",
       "      <td>360.5</td>\n",
       "      <td>0.0</td>\n",
       "      <td>0.0</td>\n",
       "      <td>0.865672</td>\n",
       "      <td>1.0</td>\n",
       "      <td>209.5</td>\n",
       "      <td>227.0</td>\n",
       "      <td>0.0</td>\n",
       "      <td>0.0</td>\n",
       "      <td>0.618421</td>\n",
       "    </tr>\n",
       "    <tr>\n",
       "      <th>4</th>\n",
       "      <td>Alexander_199.png</td>\n",
       "      <td>Alexander</td>\n",
       "      <td>377.0</td>\n",
       "      <td>377.0</td>\n",
       "      <td>0.0</td>\n",
       "      <td>0.0</td>\n",
       "      <td>0.0</td>\n",
       "      <td>0.0</td>\n",
       "      <td>0.0</td>\n",
       "      <td>0.0</td>\n",
       "      <td>...</td>\n",
       "      <td>0.0</td>\n",
       "      <td>0.0</td>\n",
       "      <td>0.0</td>\n",
       "      <td>0.000000</td>\n",
       "      <td>1.0</td>\n",
       "      <td>274.0</td>\n",
       "      <td>140.5</td>\n",
       "      <td>0.0</td>\n",
       "      <td>0.0</td>\n",
       "      <td>0.915254</td>\n",
       "    </tr>\n",
       "  </tbody>\n",
       "</table>\n",
       "<p>5 rows × 88 columns</p>\n",
       "</div>"
      ]
     },
     "execution_count": 96,
     "metadata": {},
     "output_type": "execute_result"
    }
   ],
   "execution_count": 96
  },
  {
   "metadata": {
    "ExecuteTime": {
     "end_time": "2025-02-27T13:49:07.886910Z",
     "start_time": "2025-02-27T13:49:07.876873Z"
    }
   },
   "cell_type": "code",
   "source": [
    "# Find rows where Image_Width or Image_Height is 0\n",
    "invalid_rows = df[(df[\"Image_Width\"] == 0) | (df[\"Image_Height\"] == 0)]\n",
    "print(\"Images with zero width/height:\")\n",
    "display(invalid_rows)  # If using Jupyter Notebook\n",
    "\n",
    "df = df[(df[\"Image_Width\"] > 0) & (df[\"Image_Height\"] > 0)]\n",
    "print(f\"Remaining images after removal: {len(df)}\")"
   ],
   "id": "8b1e20239fc21759",
   "outputs": [
    {
     "name": "stdout",
     "output_type": "stream",
     "text": [
      "Images with zero width/height:\n"
     ]
    },
    {
     "data": {
      "text/plain": [
       "          Filename  Class  Image_Width  Image_Height  A_Count  A_AvgX  A_AvgY  \\\n",
       "212  Judah_217.png  Judah          0.0           0.0      0.0     0.0     0.0   \n",
       "319  Judah_300.png  Judah          0.0           0.0      0.0     0.0     0.0   \n",
       "\n",
       "     A_StdX  A_StdY  A_BoxRatio  ...  Resh_AvgY  Resh_StdX  Resh_StdY  \\\n",
       "212     0.0     0.0         0.0  ...        0.0        0.0        0.0   \n",
       "319     0.0     0.0         0.0  ...        0.0        0.0        0.0   \n",
       "\n",
       "     Resh_BoxRatio  Taf_Count  Taf_AvgX  Taf_AvgY  Taf_StdX  Taf_StdY  \\\n",
       "212            0.0        0.0       0.0       0.0       0.0       0.0   \n",
       "319            0.0        0.0       0.0       0.0       0.0       0.0   \n",
       "\n",
       "     Taf_BoxRatio  \n",
       "212           0.0  \n",
       "319           0.0  \n",
       "\n",
       "[2 rows x 88 columns]"
      ],
      "text/html": [
       "<div>\n",
       "<style scoped>\n",
       "    .dataframe tbody tr th:only-of-type {\n",
       "        vertical-align: middle;\n",
       "    }\n",
       "\n",
       "    .dataframe tbody tr th {\n",
       "        vertical-align: top;\n",
       "    }\n",
       "\n",
       "    .dataframe thead th {\n",
       "        text-align: right;\n",
       "    }\n",
       "</style>\n",
       "<table border=\"1\" class=\"dataframe\">\n",
       "  <thead>\n",
       "    <tr style=\"text-align: right;\">\n",
       "      <th></th>\n",
       "      <th>Filename</th>\n",
       "      <th>Class</th>\n",
       "      <th>Image_Width</th>\n",
       "      <th>Image_Height</th>\n",
       "      <th>A_Count</th>\n",
       "      <th>A_AvgX</th>\n",
       "      <th>A_AvgY</th>\n",
       "      <th>A_StdX</th>\n",
       "      <th>A_StdY</th>\n",
       "      <th>A_BoxRatio</th>\n",
       "      <th>...</th>\n",
       "      <th>Resh_AvgY</th>\n",
       "      <th>Resh_StdX</th>\n",
       "      <th>Resh_StdY</th>\n",
       "      <th>Resh_BoxRatio</th>\n",
       "      <th>Taf_Count</th>\n",
       "      <th>Taf_AvgX</th>\n",
       "      <th>Taf_AvgY</th>\n",
       "      <th>Taf_StdX</th>\n",
       "      <th>Taf_StdY</th>\n",
       "      <th>Taf_BoxRatio</th>\n",
       "    </tr>\n",
       "  </thead>\n",
       "  <tbody>\n",
       "    <tr>\n",
       "      <th>212</th>\n",
       "      <td>Judah_217.png</td>\n",
       "      <td>Judah</td>\n",
       "      <td>0.0</td>\n",
       "      <td>0.0</td>\n",
       "      <td>0.0</td>\n",
       "      <td>0.0</td>\n",
       "      <td>0.0</td>\n",
       "      <td>0.0</td>\n",
       "      <td>0.0</td>\n",
       "      <td>0.0</td>\n",
       "      <td>...</td>\n",
       "      <td>0.0</td>\n",
       "      <td>0.0</td>\n",
       "      <td>0.0</td>\n",
       "      <td>0.0</td>\n",
       "      <td>0.0</td>\n",
       "      <td>0.0</td>\n",
       "      <td>0.0</td>\n",
       "      <td>0.0</td>\n",
       "      <td>0.0</td>\n",
       "      <td>0.0</td>\n",
       "    </tr>\n",
       "    <tr>\n",
       "      <th>319</th>\n",
       "      <td>Judah_300.png</td>\n",
       "      <td>Judah</td>\n",
       "      <td>0.0</td>\n",
       "      <td>0.0</td>\n",
       "      <td>0.0</td>\n",
       "      <td>0.0</td>\n",
       "      <td>0.0</td>\n",
       "      <td>0.0</td>\n",
       "      <td>0.0</td>\n",
       "      <td>0.0</td>\n",
       "      <td>...</td>\n",
       "      <td>0.0</td>\n",
       "      <td>0.0</td>\n",
       "      <td>0.0</td>\n",
       "      <td>0.0</td>\n",
       "      <td>0.0</td>\n",
       "      <td>0.0</td>\n",
       "      <td>0.0</td>\n",
       "      <td>0.0</td>\n",
       "      <td>0.0</td>\n",
       "      <td>0.0</td>\n",
       "    </tr>\n",
       "  </tbody>\n",
       "</table>\n",
       "<p>2 rows × 88 columns</p>\n",
       "</div>"
      ]
     },
     "metadata": {},
     "output_type": "display_data"
    },
    {
     "name": "stdout",
     "output_type": "stream",
     "text": [
      "Remaining images after removal: 866\n"
     ]
    }
   ],
   "execution_count": 97
  },
  {
   "metadata": {
    "ExecuteTime": {
     "end_time": "2025-02-27T13:49:08.037780Z",
     "start_time": "2025-02-27T13:49:08.025748Z"
    }
   },
   "cell_type": "code",
   "source": [
    "# Drop the 'filename' column\n",
    "df_cleaned = df.drop(columns=[\"Filename\"], errors=\"ignore\")\n",
    "\n",
    "# Display first rows after removal\n",
    "df_cleaned.head()"
   ],
   "id": "e90baa41919999f6",
   "outputs": [
    {
     "data": {
      "text/plain": [
       "       Class  Image_Width  Image_Height  A_Count  A_AvgX  A_AvgY  A_StdX  \\\n",
       "0  Alexander       1880.0        1880.0      0.0     0.0     0.0     0.0   \n",
       "1  Alexander       1604.0        1604.0      0.0     0.0     0.0     0.0   \n",
       "2  Alexander        543.0         543.0      0.0     0.0     0.0     0.0   \n",
       "3  Alexander        521.0         521.0      0.0     0.0     0.0     0.0   \n",
       "4  Alexander        377.0         377.0      0.0     0.0     0.0     0.0   \n",
       "\n",
       "   A_StdY  A_BoxRatio  Bet_Count  ...  Resh_AvgY  Resh_StdX  Resh_StdY  \\\n",
       "0     0.0         0.0        0.0  ...        0.0        0.0        0.0   \n",
       "1     0.0         0.0        1.0  ...        0.0        0.0        0.0   \n",
       "2     0.0         0.0        0.0  ...        0.0        0.0        0.0   \n",
       "3     0.0         0.0        1.0  ...      360.5        0.0        0.0   \n",
       "4     0.0         0.0        1.0  ...        0.0        0.0        0.0   \n",
       "\n",
       "   Resh_BoxRatio  Taf_Count  Taf_AvgX  Taf_AvgY  Taf_StdX  Taf_StdY  \\\n",
       "0       0.000000        0.0       0.0       0.0       0.0       0.0   \n",
       "1       0.000000        1.0     714.5     367.5       0.0       0.0   \n",
       "2       0.000000        1.0     455.5     238.5       0.0       0.0   \n",
       "3       0.865672        1.0     209.5     227.0       0.0       0.0   \n",
       "4       0.000000        1.0     274.0     140.5       0.0       0.0   \n",
       "\n",
       "   Taf_BoxRatio  \n",
       "0      0.000000  \n",
       "1      0.590106  \n",
       "2      1.092308  \n",
       "3      0.618421  \n",
       "4      0.915254  \n",
       "\n",
       "[5 rows x 87 columns]"
      ],
      "text/html": [
       "<div>\n",
       "<style scoped>\n",
       "    .dataframe tbody tr th:only-of-type {\n",
       "        vertical-align: middle;\n",
       "    }\n",
       "\n",
       "    .dataframe tbody tr th {\n",
       "        vertical-align: top;\n",
       "    }\n",
       "\n",
       "    .dataframe thead th {\n",
       "        text-align: right;\n",
       "    }\n",
       "</style>\n",
       "<table border=\"1\" class=\"dataframe\">\n",
       "  <thead>\n",
       "    <tr style=\"text-align: right;\">\n",
       "      <th></th>\n",
       "      <th>Class</th>\n",
       "      <th>Image_Width</th>\n",
       "      <th>Image_Height</th>\n",
       "      <th>A_Count</th>\n",
       "      <th>A_AvgX</th>\n",
       "      <th>A_AvgY</th>\n",
       "      <th>A_StdX</th>\n",
       "      <th>A_StdY</th>\n",
       "      <th>A_BoxRatio</th>\n",
       "      <th>Bet_Count</th>\n",
       "      <th>...</th>\n",
       "      <th>Resh_AvgY</th>\n",
       "      <th>Resh_StdX</th>\n",
       "      <th>Resh_StdY</th>\n",
       "      <th>Resh_BoxRatio</th>\n",
       "      <th>Taf_Count</th>\n",
       "      <th>Taf_AvgX</th>\n",
       "      <th>Taf_AvgY</th>\n",
       "      <th>Taf_StdX</th>\n",
       "      <th>Taf_StdY</th>\n",
       "      <th>Taf_BoxRatio</th>\n",
       "    </tr>\n",
       "  </thead>\n",
       "  <tbody>\n",
       "    <tr>\n",
       "      <th>0</th>\n",
       "      <td>Alexander</td>\n",
       "      <td>1880.0</td>\n",
       "      <td>1880.0</td>\n",
       "      <td>0.0</td>\n",
       "      <td>0.0</td>\n",
       "      <td>0.0</td>\n",
       "      <td>0.0</td>\n",
       "      <td>0.0</td>\n",
       "      <td>0.0</td>\n",
       "      <td>0.0</td>\n",
       "      <td>...</td>\n",
       "      <td>0.0</td>\n",
       "      <td>0.0</td>\n",
       "      <td>0.0</td>\n",
       "      <td>0.000000</td>\n",
       "      <td>0.0</td>\n",
       "      <td>0.0</td>\n",
       "      <td>0.0</td>\n",
       "      <td>0.0</td>\n",
       "      <td>0.0</td>\n",
       "      <td>0.000000</td>\n",
       "    </tr>\n",
       "    <tr>\n",
       "      <th>1</th>\n",
       "      <td>Alexander</td>\n",
       "      <td>1604.0</td>\n",
       "      <td>1604.0</td>\n",
       "      <td>0.0</td>\n",
       "      <td>0.0</td>\n",
       "      <td>0.0</td>\n",
       "      <td>0.0</td>\n",
       "      <td>0.0</td>\n",
       "      <td>0.0</td>\n",
       "      <td>1.0</td>\n",
       "      <td>...</td>\n",
       "      <td>0.0</td>\n",
       "      <td>0.0</td>\n",
       "      <td>0.0</td>\n",
       "      <td>0.000000</td>\n",
       "      <td>1.0</td>\n",
       "      <td>714.5</td>\n",
       "      <td>367.5</td>\n",
       "      <td>0.0</td>\n",
       "      <td>0.0</td>\n",
       "      <td>0.590106</td>\n",
       "    </tr>\n",
       "    <tr>\n",
       "      <th>2</th>\n",
       "      <td>Alexander</td>\n",
       "      <td>543.0</td>\n",
       "      <td>543.0</td>\n",
       "      <td>0.0</td>\n",
       "      <td>0.0</td>\n",
       "      <td>0.0</td>\n",
       "      <td>0.0</td>\n",
       "      <td>0.0</td>\n",
       "      <td>0.0</td>\n",
       "      <td>0.0</td>\n",
       "      <td>...</td>\n",
       "      <td>0.0</td>\n",
       "      <td>0.0</td>\n",
       "      <td>0.0</td>\n",
       "      <td>0.000000</td>\n",
       "      <td>1.0</td>\n",
       "      <td>455.5</td>\n",
       "      <td>238.5</td>\n",
       "      <td>0.0</td>\n",
       "      <td>0.0</td>\n",
       "      <td>1.092308</td>\n",
       "    </tr>\n",
       "    <tr>\n",
       "      <th>3</th>\n",
       "      <td>Alexander</td>\n",
       "      <td>521.0</td>\n",
       "      <td>521.0</td>\n",
       "      <td>0.0</td>\n",
       "      <td>0.0</td>\n",
       "      <td>0.0</td>\n",
       "      <td>0.0</td>\n",
       "      <td>0.0</td>\n",
       "      <td>0.0</td>\n",
       "      <td>1.0</td>\n",
       "      <td>...</td>\n",
       "      <td>360.5</td>\n",
       "      <td>0.0</td>\n",
       "      <td>0.0</td>\n",
       "      <td>0.865672</td>\n",
       "      <td>1.0</td>\n",
       "      <td>209.5</td>\n",
       "      <td>227.0</td>\n",
       "      <td>0.0</td>\n",
       "      <td>0.0</td>\n",
       "      <td>0.618421</td>\n",
       "    </tr>\n",
       "    <tr>\n",
       "      <th>4</th>\n",
       "      <td>Alexander</td>\n",
       "      <td>377.0</td>\n",
       "      <td>377.0</td>\n",
       "      <td>0.0</td>\n",
       "      <td>0.0</td>\n",
       "      <td>0.0</td>\n",
       "      <td>0.0</td>\n",
       "      <td>0.0</td>\n",
       "      <td>0.0</td>\n",
       "      <td>1.0</td>\n",
       "      <td>...</td>\n",
       "      <td>0.0</td>\n",
       "      <td>0.0</td>\n",
       "      <td>0.0</td>\n",
       "      <td>0.000000</td>\n",
       "      <td>1.0</td>\n",
       "      <td>274.0</td>\n",
       "      <td>140.5</td>\n",
       "      <td>0.0</td>\n",
       "      <td>0.0</td>\n",
       "      <td>0.915254</td>\n",
       "    </tr>\n",
       "  </tbody>\n",
       "</table>\n",
       "<p>5 rows × 87 columns</p>\n",
       "</div>"
      ]
     },
     "execution_count": 98,
     "metadata": {},
     "output_type": "execute_result"
    }
   ],
   "execution_count": 98
  },
  {
   "metadata": {
    "ExecuteTime": {
     "end_time": "2025-02-27T13:49:08.174219Z",
     "start_time": "2025-02-27T13:49:08.168328Z"
    }
   },
   "cell_type": "code",
   "source": "len(df[df['Class']==\"Alexander\"]) , len(df[df['Class']==\"John\"]), len(df[df['Class']==\"Judah\"])",
   "id": "484623c8801765a7",
   "outputs": [
    {
     "data": {
      "text/plain": [
       "(216, 243, 407)"
      ]
     },
     "execution_count": 99,
     "metadata": {},
     "output_type": "execute_result"
    }
   ],
   "execution_count": 99
  },
  {
   "metadata": {
    "ExecuteTime": {
     "end_time": "2025-02-27T13:49:08.364491Z",
     "start_time": "2025-02-27T13:49:08.361182Z"
    }
   },
   "cell_type": "code",
   "source": [
    "# Check for missing values\n",
    "missing_values = df_cleaned.isnull().sum()\n",
    "print(\"Missing values per column:\")\n",
    "print(missing_values[missing_values > 0])"
   ],
   "id": "5b088722b26d4375",
   "outputs": [
    {
     "name": "stdout",
     "output_type": "stream",
     "text": [
      "Missing values per column:\n",
      "Series([], dtype: int64)\n"
     ]
    }
   ],
   "execution_count": 100
  },
  {
   "metadata": {
    "ExecuteTime": {
     "end_time": "2025-02-27T13:49:08.470444Z",
     "start_time": "2025-02-27T13:49:08.468820Z"
    }
   },
   "cell_type": "code",
   "source": [
    "# # Display summary statistics\n",
    "# print(df_cleaned.describe())\n",
    "#\n",
    "# # Plot distributions of numerical features\n",
    "# import matplotlib.pyplot as plt\n",
    "#\n",
    "# df_cleaned.hist(figsize=(12, 10), bins=30)\n",
    "# plt.show()"
   ],
   "id": "d81abf35a785e768",
   "outputs": [],
   "execution_count": 101
  },
  {
   "metadata": {
    "ExecuteTime": {
     "end_time": "2025-02-27T13:49:08.597465Z",
     "start_time": "2025-02-27T13:49:08.594728Z"
    }
   },
   "cell_type": "code",
   "source": [
    "# Drop Image_Width and Image_Height (not useful in final dataset)\n",
    "df_cleaned = df_cleaned.drop(columns=[\"Image_Width\", \"Image_Height\"])"
   ],
   "id": "662e75824e012d01",
   "outputs": [],
   "execution_count": 102
  },
  {
   "metadata": {
    "ExecuteTime": {
     "end_time": "2025-02-27T13:49:08.709619Z",
     "start_time": "2025-02-27T13:49:08.706658Z"
    }
   },
   "cell_type": "code",
   "source": [
    "# Save a separate copy of non-normalized data before modifying df_cleaned\n",
    "df_notNorm = df_cleaned.copy()"
   ],
   "id": "d5f033e017cb3c4b",
   "outputs": [],
   "execution_count": 103
  },
  {
   "metadata": {
    "ExecuteTime": {
     "end_time": "2025-02-27T13:49:08.887710Z",
     "start_time": "2025-02-27T13:49:08.867761Z"
    }
   },
   "cell_type": "code",
   "source": [
    "# Compute the total number of letters detected in each image\n",
    "letter_columns = [col for col in df_cleaned.columns if \"_Count\" in col]  # Find all letter count columns\n",
    "df_cleaned[\"Total_Letters\"] = df_cleaned[letter_columns].sum(axis=1)  # Sum all letter counts\n",
    "\n",
    "# Normalize counts by total detected letters\n",
    "for col in letter_columns:\n",
    "    df_cleaned[col] = df_cleaned[col] / df_cleaned[\"Total_Letters\"]\n",
    "\n",
    "# Fill NaN (if Total_Letters = 0)\n",
    "df_cleaned[letter_columns] = df_cleaned[letter_columns].fillna(0)"
   ],
   "id": "2140008520aaa786",
   "outputs": [],
   "execution_count": 104
  },
  {
   "metadata": {
    "ExecuteTime": {
     "end_time": "2025-02-27T13:49:08.990696Z",
     "start_time": "2025-02-27T13:49:08.984050Z"
    }
   },
   "cell_type": "code",
   "source": [
    "# Find all X and Y coordinate columns\n",
    "x_columns = [col for col in df_cleaned.columns if \"_AvgX\" in col]\n",
    "y_columns = [col for col in df_cleaned.columns if \"_AvgY\" in col]\n",
    "\n",
    "# Normalize by image width & height\n",
    "for col in x_columns:\n",
    "    df_cleaned[col] = df_cleaned[col] / df[\"Image_Width\"]\n",
    "\n",
    "for col in y_columns:\n",
    "    df_cleaned[col] = df_cleaned[col] / df[\"Image_Height\"]"
   ],
   "id": "7a04c9937a6f31ff",
   "outputs": [],
   "execution_count": 105
  },
  {
   "metadata": {
    "ExecuteTime": {
     "end_time": "2025-02-27T13:49:08.999214Z",
     "start_time": "2025-02-27T13:49:08.993618Z"
    }
   },
   "cell_type": "code",
   "source": [
    "std_x_columns = [col for col in df_cleaned.columns if \"_StdX\" in col]\n",
    "std_y_columns = [col for col in df_cleaned.columns if \"_StdY\" in col]\n",
    "\n",
    "# Normalize by image dimensions\n",
    "for col in std_x_columns:\n",
    "    df_cleaned[col] = df_cleaned[col] / df[\"Image_Width\"]\n",
    "\n",
    "for col in std_y_columns:\n",
    "    df_cleaned[col] = df_cleaned[col] / df[\"Image_Height\"]"
   ],
   "id": "f4898c7030bfc0db",
   "outputs": [],
   "execution_count": 106
  },
  {
   "metadata": {
    "ExecuteTime": {
     "end_time": "2025-02-27T13:49:09.076159Z",
     "start_time": "2025-02-27T13:49:09.069601Z"
    }
   },
   "cell_type": "code",
   "source": "df_cleaned = df_cleaned.drop(columns=[\"Total_Letters\"])  # No longer needed",
   "id": "51c8a3b2ac822a5d",
   "outputs": [],
   "execution_count": 107
  },
  {
   "metadata": {
    "ExecuteTime": {
     "end_time": "2025-02-27T13:49:09.175346Z",
     "start_time": "2025-02-27T13:49:09.167019Z"
    }
   },
   "cell_type": "code",
   "source": "df_cleaned.head() # Check if values look reasonable",
   "id": "c7bdf6c237406e75",
   "outputs": [
    {
     "data": {
      "text/plain": [
       "       Class  A_Count  A_AvgX  A_AvgY  A_StdX  A_StdY  A_BoxRatio  Bet_Count  \\\n",
       "0  Alexander      0.0     0.0     0.0     0.0     0.0         0.0   0.000000   \n",
       "1  Alexander      0.0     0.0     0.0     0.0     0.0         0.0   0.083333   \n",
       "2  Alexander      0.0     0.0     0.0     0.0     0.0         0.0   0.000000   \n",
       "3  Alexander      0.0     0.0     0.0     0.0     0.0         0.0   0.062500   \n",
       "4  Alexander      0.0     0.0     0.0     0.0     0.0         0.0   0.055556   \n",
       "\n",
       "   Bet_AvgX  Bet_AvgY  ...  Resh_AvgY  Resh_StdX  Resh_StdY  Resh_BoxRatio  \\\n",
       "0  0.000000  0.000000  ...   0.000000        0.0        0.0       0.000000   \n",
       "1  0.343516  0.547693  ...   0.000000        0.0        0.0       0.000000   \n",
       "2  0.000000  0.000000  ...   0.000000        0.0        0.0       0.000000   \n",
       "3  0.440499  0.720729  ...   0.691939        0.0        0.0       0.865672   \n",
       "4  0.640584  0.737401  ...   0.000000        0.0        0.0       0.000000   \n",
       "\n",
       "   Taf_Count  Taf_AvgX  Taf_AvgY  Taf_StdX  Taf_StdY  Taf_BoxRatio  \n",
       "0   0.000000  0.000000  0.000000       0.0       0.0      0.000000  \n",
       "1   0.083333  0.445449  0.229115       0.0       0.0      0.590106  \n",
       "2   0.071429  0.838858  0.439227       0.0       0.0      1.092308  \n",
       "3   0.062500  0.402111  0.435701       0.0       0.0      0.618421  \n",
       "4   0.055556  0.726790  0.372679       0.0       0.0      0.915254  \n",
       "\n",
       "[5 rows x 85 columns]"
      ],
      "text/html": [
       "<div>\n",
       "<style scoped>\n",
       "    .dataframe tbody tr th:only-of-type {\n",
       "        vertical-align: middle;\n",
       "    }\n",
       "\n",
       "    .dataframe tbody tr th {\n",
       "        vertical-align: top;\n",
       "    }\n",
       "\n",
       "    .dataframe thead th {\n",
       "        text-align: right;\n",
       "    }\n",
       "</style>\n",
       "<table border=\"1\" class=\"dataframe\">\n",
       "  <thead>\n",
       "    <tr style=\"text-align: right;\">\n",
       "      <th></th>\n",
       "      <th>Class</th>\n",
       "      <th>A_Count</th>\n",
       "      <th>A_AvgX</th>\n",
       "      <th>A_AvgY</th>\n",
       "      <th>A_StdX</th>\n",
       "      <th>A_StdY</th>\n",
       "      <th>A_BoxRatio</th>\n",
       "      <th>Bet_Count</th>\n",
       "      <th>Bet_AvgX</th>\n",
       "      <th>Bet_AvgY</th>\n",
       "      <th>...</th>\n",
       "      <th>Resh_AvgY</th>\n",
       "      <th>Resh_StdX</th>\n",
       "      <th>Resh_StdY</th>\n",
       "      <th>Resh_BoxRatio</th>\n",
       "      <th>Taf_Count</th>\n",
       "      <th>Taf_AvgX</th>\n",
       "      <th>Taf_AvgY</th>\n",
       "      <th>Taf_StdX</th>\n",
       "      <th>Taf_StdY</th>\n",
       "      <th>Taf_BoxRatio</th>\n",
       "    </tr>\n",
       "  </thead>\n",
       "  <tbody>\n",
       "    <tr>\n",
       "      <th>0</th>\n",
       "      <td>Alexander</td>\n",
       "      <td>0.0</td>\n",
       "      <td>0.0</td>\n",
       "      <td>0.0</td>\n",
       "      <td>0.0</td>\n",
       "      <td>0.0</td>\n",
       "      <td>0.0</td>\n",
       "      <td>0.000000</td>\n",
       "      <td>0.000000</td>\n",
       "      <td>0.000000</td>\n",
       "      <td>...</td>\n",
       "      <td>0.000000</td>\n",
       "      <td>0.0</td>\n",
       "      <td>0.0</td>\n",
       "      <td>0.000000</td>\n",
       "      <td>0.000000</td>\n",
       "      <td>0.000000</td>\n",
       "      <td>0.000000</td>\n",
       "      <td>0.0</td>\n",
       "      <td>0.0</td>\n",
       "      <td>0.000000</td>\n",
       "    </tr>\n",
       "    <tr>\n",
       "      <th>1</th>\n",
       "      <td>Alexander</td>\n",
       "      <td>0.0</td>\n",
       "      <td>0.0</td>\n",
       "      <td>0.0</td>\n",
       "      <td>0.0</td>\n",
       "      <td>0.0</td>\n",
       "      <td>0.0</td>\n",
       "      <td>0.083333</td>\n",
       "      <td>0.343516</td>\n",
       "      <td>0.547693</td>\n",
       "      <td>...</td>\n",
       "      <td>0.000000</td>\n",
       "      <td>0.0</td>\n",
       "      <td>0.0</td>\n",
       "      <td>0.000000</td>\n",
       "      <td>0.083333</td>\n",
       "      <td>0.445449</td>\n",
       "      <td>0.229115</td>\n",
       "      <td>0.0</td>\n",
       "      <td>0.0</td>\n",
       "      <td>0.590106</td>\n",
       "    </tr>\n",
       "    <tr>\n",
       "      <th>2</th>\n",
       "      <td>Alexander</td>\n",
       "      <td>0.0</td>\n",
       "      <td>0.0</td>\n",
       "      <td>0.0</td>\n",
       "      <td>0.0</td>\n",
       "      <td>0.0</td>\n",
       "      <td>0.0</td>\n",
       "      <td>0.000000</td>\n",
       "      <td>0.000000</td>\n",
       "      <td>0.000000</td>\n",
       "      <td>...</td>\n",
       "      <td>0.000000</td>\n",
       "      <td>0.0</td>\n",
       "      <td>0.0</td>\n",
       "      <td>0.000000</td>\n",
       "      <td>0.071429</td>\n",
       "      <td>0.838858</td>\n",
       "      <td>0.439227</td>\n",
       "      <td>0.0</td>\n",
       "      <td>0.0</td>\n",
       "      <td>1.092308</td>\n",
       "    </tr>\n",
       "    <tr>\n",
       "      <th>3</th>\n",
       "      <td>Alexander</td>\n",
       "      <td>0.0</td>\n",
       "      <td>0.0</td>\n",
       "      <td>0.0</td>\n",
       "      <td>0.0</td>\n",
       "      <td>0.0</td>\n",
       "      <td>0.0</td>\n",
       "      <td>0.062500</td>\n",
       "      <td>0.440499</td>\n",
       "      <td>0.720729</td>\n",
       "      <td>...</td>\n",
       "      <td>0.691939</td>\n",
       "      <td>0.0</td>\n",
       "      <td>0.0</td>\n",
       "      <td>0.865672</td>\n",
       "      <td>0.062500</td>\n",
       "      <td>0.402111</td>\n",
       "      <td>0.435701</td>\n",
       "      <td>0.0</td>\n",
       "      <td>0.0</td>\n",
       "      <td>0.618421</td>\n",
       "    </tr>\n",
       "    <tr>\n",
       "      <th>4</th>\n",
       "      <td>Alexander</td>\n",
       "      <td>0.0</td>\n",
       "      <td>0.0</td>\n",
       "      <td>0.0</td>\n",
       "      <td>0.0</td>\n",
       "      <td>0.0</td>\n",
       "      <td>0.0</td>\n",
       "      <td>0.055556</td>\n",
       "      <td>0.640584</td>\n",
       "      <td>0.737401</td>\n",
       "      <td>...</td>\n",
       "      <td>0.000000</td>\n",
       "      <td>0.0</td>\n",
       "      <td>0.0</td>\n",
       "      <td>0.000000</td>\n",
       "      <td>0.055556</td>\n",
       "      <td>0.726790</td>\n",
       "      <td>0.372679</td>\n",
       "      <td>0.0</td>\n",
       "      <td>0.0</td>\n",
       "      <td>0.915254</td>\n",
       "    </tr>\n",
       "  </tbody>\n",
       "</table>\n",
       "<p>5 rows × 85 columns</p>\n",
       "</div>"
      ]
     },
     "execution_count": 108,
     "metadata": {},
     "output_type": "execute_result"
    }
   ],
   "execution_count": 108
  },
  {
   "metadata": {
    "ExecuteTime": {
     "end_time": "2025-02-27T13:49:09.207263Z",
     "start_time": "2025-02-27T13:49:09.204434Z"
    }
   },
   "cell_type": "code",
   "source": [
    "from sklearn.preprocessing import LabelEncoder\n",
    "\n",
    "# Initialize label encoder\n",
    "label_encoder = LabelEncoder()\n",
    "\n",
    "# Encode the class labels\n",
    "df_cleaned[\"Class\"] = label_encoder.fit_transform(df_cleaned[\"Class\"])\n",
    "df_notNorm[\"Class\"] = label_encoder.transform(df_notNorm[\"Class\"])  # Apply same transformation\n",
    "\n",
    "# Save mapping for reference\n",
    "class_mapping = dict(zip(label_encoder.classes_, label_encoder.transform(label_encoder.classes_)))\n",
    "print(f\"✅ Class Encoding Mapping: {class_mapping}\")"
   ],
   "id": "e8f27eaf770dffc4",
   "outputs": [
    {
     "name": "stdout",
     "output_type": "stream",
     "text": [
      "✅ Class Encoding Mapping: {'Alexander': 0, 'John': 1, 'Judah': 2}\n"
     ]
    }
   ],
   "execution_count": 109
  },
  {
   "metadata": {
    "ExecuteTime": {
     "end_time": "2025-02-27T13:49:09.257400Z",
     "start_time": "2025-02-27T13:49:09.252735Z"
    }
   },
   "cell_type": "code",
   "source": [
    "from sklearn.model_selection import train_test_split\n",
    "\n",
    "# Separate features (X) and target (y)\n",
    "X = df_cleaned.drop(columns=[\"Class\"])  # Features\n",
    "y = df_cleaned[\"Class\"]  # Labels\n",
    "\n",
    "X_raw = df_notNorm.drop(columns=[\"Class\"])  # Features\n",
    "y_raw = df_notNorm[\"Class\"]"
   ],
   "id": "8d4e98e195030d46",
   "outputs": [],
   "execution_count": 110
  },
  {
   "metadata": {
    "ExecuteTime": {
     "end_time": "2025-02-27T13:49:09.297607Z",
     "start_time": "2025-02-27T13:49:09.290923Z"
    }
   },
   "cell_type": "code",
   "source": [
    "test_size = 0.1\n",
    "random_state = 42\n",
    "\n",
    "\n",
    "# 80% training, 20% testing\n",
    "X_train, X_test, y_train, y_test = train_test_split(\n",
    "    X, y, test_size=test_size, random_state=random_state, stratify=y\n",
    ")\n",
    "\n",
    "X_train_raw, X_test_raw, y_train_raw, y_test_raw = train_test_split(\n",
    "    X_raw, y_raw, test_size=test_size, random_state=random_state, stratify=df_notNorm[\"Class\"]\n",
    ")\n",
    "\n",
    "print(f\"Training samples: {len(X_train)}, Testing samples: {len(X_test)}\")"
   ],
   "id": "ebc908943a4088f6",
   "outputs": [
    {
     "name": "stdout",
     "output_type": "stream",
     "text": [
      "Training samples: 779, Testing samples: 87\n"
     ]
    }
   ],
   "execution_count": 111
  },
  {
   "metadata": {
    "ExecuteTime": {
     "end_time": "2025-02-27T13:49:09.543765Z",
     "start_time": "2025-02-27T13:49:09.531733Z"
    }
   },
   "cell_type": "code",
   "source": [
    "import numpy as np\n",
    "\n",
    "print(\"Feature Means:\\n\", X_train.mean(axis=0))\n",
    "print(\"\\nFeature Standard Deviations:\\n\", X_train.std(axis=0))"
   ],
   "id": "b53995541ce268b2",
   "outputs": [
    {
     "name": "stdout",
     "output_type": "stream",
     "text": [
      "Feature Means:\n",
      " A_Count         0.004026\n",
      "A_AvgX          0.043864\n",
      "A_AvgY          0.021216\n",
      "A_StdX          0.000000\n",
      "A_StdY          0.000000\n",
      "                  ...   \n",
      "Taf_AvgX        0.106762\n",
      "Taf_AvgY        0.067563\n",
      "Taf_StdX        0.000059\n",
      "Taf_StdY        0.000011\n",
      "Taf_BoxRatio    0.150062\n",
      "Length: 84, dtype: float64\n",
      "\n",
      "Feature Standard Deviations:\n",
      " A_Count         0.013545\n",
      "A_AvgX          0.144771\n",
      "A_AvgY          0.075077\n",
      "A_StdX          0.000000\n",
      "A_StdY          0.000000\n",
      "                  ...   \n",
      "Taf_AvgX        0.232487\n",
      "Taf_AvgY        0.150482\n",
      "Taf_StdX        0.001656\n",
      "Taf_StdY        0.000304\n",
      "Taf_BoxRatio    0.329349\n",
      "Length: 84, dtype: float64\n"
     ]
    }
   ],
   "execution_count": 112
  },
  {
   "metadata": {
    "ExecuteTime": {
     "end_time": "2025-02-27T13:49:10.066394Z",
     "start_time": "2025-02-27T13:49:09.596247Z"
    }
   },
   "cell_type": "code",
   "source": [
    "from sklearn.metrics import accuracy_score\n",
    "from sklearn.model_selection import GridSearchCV\n",
    "from sklearn.neighbors import KNeighborsClassifier\n",
    "\n",
    "# Define hyperparameters to test\n",
    "param_grid = {\n",
    "    \"n_neighbors\": [3, 5, 7, 9, 11, 15],\n",
    "    \"weights\": [\"uniform\", \"distance\"],\n",
    "    \"metric\": [\"euclidean\", \"manhattan\"]\n",
    "}\n",
    "\n",
    "# Initialize k-NN model\n",
    "knn = KNeighborsClassifier()\n",
    "\n",
    "# Use GridSearch to find the best combination\n",
    "grid_search = GridSearchCV(knn, param_grid, cv=5, scoring=\"accuracy\", n_jobs=-1)\n",
    "grid_search.fit(X_train, y_train)\n",
    "\n",
    "# Get the best parameters and accuracy\n",
    "best_params = grid_search.best_params_\n",
    "best_accuracy = grid_search.best_score_\n",
    "\n",
    "print(f\"✅ Best k-NN Parameters: {best_params}\")\n",
    "print(f\"✅ Best Cross-Validation Accuracy: {best_accuracy:.4f}\")\n",
    "\n",
    "# Train k-NN with the best parameters\n",
    "best_knn = KNeighborsClassifier(**best_params)\n",
    "best_knn.fit(X_train, y_train)\n",
    "\n",
    "# Evaluate on test set\n",
    "y_pred_best_knn = best_knn.predict(X_test)\n",
    "accuracy_best_knn = accuracy_score(y_test, y_pred_best_knn)\n",
    "\n",
    "print(f\"✅ Best k-NN Test Accuracy: {accuracy_best_knn:.4f}\")"
   ],
   "id": "b2826d46cf5fac31",
   "outputs": [
    {
     "name": "stdout",
     "output_type": "stream",
     "text": [
      "✅ Best k-NN Parameters: {'metric': 'manhattan', 'n_neighbors': 5, 'weights': 'distance'}\n",
      "✅ Best Cross-Validation Accuracy: 0.8857\n",
      "✅ Best k-NN Test Accuracy: 0.9080\n"
     ]
    }
   ],
   "execution_count": 113
  },
  {
   "metadata": {
    "ExecuteTime": {
     "end_time": "2025-02-27T13:49:18.407583Z",
     "start_time": "2025-02-27T13:49:10.141434Z"
    }
   },
   "cell_type": "code",
   "source": [
    "from sklearn.ensemble import RandomForestClassifier\n",
    "from sklearn.model_selection import GridSearchCV\n",
    "\n",
    "# Define hyperparameter grid\n",
    "param_grid = {\n",
    "    \"n_estimators\": [50, 100, 200],  # Number of trees\n",
    "    \"max_depth\": [None, 10, 20, 30],  # Max depth (None = unlimited)\n",
    "    \"min_samples_split\": [2, 5, 10],  # Minimum samples to split a node\n",
    "    \"min_samples_leaf\": [1, 2, 4]  # Minimum samples per leaf\n",
    "}\n",
    "\n",
    "# Initialize Random Forest\n",
    "rf = RandomForestClassifier(random_state=42)\n",
    "\n",
    "# Perform Grid Search with Cross-Validation\n",
    "grid_search = GridSearchCV(rf, param_grid, cv=5, scoring=\"accuracy\", n_jobs=-1)\n",
    "grid_search.fit(X_train_raw, y_train_raw)\n",
    "\n",
    "# Get best parameters\n",
    "best_rf_params = grid_search.best_params_\n",
    "best_rf_accuracy = grid_search.best_score_\n",
    "\n",
    "print(f\"✅ Best Random Forest Parameters: {best_rf_params}\")\n",
    "print(f\"✅ Best Cross-Validation Accuracy: {best_rf_accuracy:.4f}\")\n",
    "\n",
    "# Train best model\n",
    "best_rf = RandomForestClassifier(**best_rf_params, random_state=42)\n",
    "best_rf.fit(X_train_raw, y_train_raw)\n",
    "\n",
    "# Evaluate on test set\n",
    "y_pred_best_rf = best_rf.predict(X_test_raw)\n",
    "accuracy_best_rf = accuracy_score(y_test_raw, y_pred_best_rf)\n",
    "\n",
    "print(f\"✅ Best Random Forest Test Accuracy: {accuracy_best_rf:.4f}\")"
   ],
   "id": "dc194d82618281ba",
   "outputs": [
    {
     "name": "stdout",
     "output_type": "stream",
     "text": [
      "✅ Best Random Forest Parameters: {'max_depth': None, 'min_samples_leaf': 1, 'min_samples_split': 2, 'n_estimators': 50}\n",
      "✅ Best Cross-Validation Accuracy: 0.9192\n",
      "✅ Best Random Forest Test Accuracy: 0.9080\n"
     ]
    }
   ],
   "execution_count": 114
  },
  {
   "metadata": {
    "ExecuteTime": {
     "end_time": "2025-02-27T13:49:26.949767Z",
     "start_time": "2025-02-27T13:49:18.493623Z"
    }
   },
   "cell_type": "code",
   "source": [
    "from xgboost import XGBClassifier\n",
    "from sklearn.model_selection import GridSearchCV\n",
    "\n",
    "# Define parameter grid\n",
    "param_grid_xgb = {\n",
    "    \"n_estimators\": [50, 100, 200],\n",
    "    \"max_depth\": [3, 5, 10],\n",
    "    \"learning_rate\": [0.01, 0.1, 0.2]\n",
    "}\n",
    "\n",
    "# Initialize XGBoost\n",
    "xgb = XGBClassifier(random_state=42, eval_metric=\"mlogloss\")\n",
    "\n",
    "# Perform Grid Search\n",
    "grid_search_xgb = GridSearchCV(xgb, param_grid_xgb, cv=5, scoring=\"accuracy\", n_jobs=-1)\n",
    "grid_search_xgb.fit(X_train_raw, y_train_raw)\n",
    "\n",
    "# Best parameters\n",
    "best_xgb_params = grid_search_xgb.best_params_\n",
    "best_xgb_accuracy = grid_search_xgb.best_score_\n",
    "\n",
    "print(f\"✅ Best XGBoost Parameters: {best_xgb_params}\")\n",
    "print(f\"✅ Best Cross-Validation Accuracy: {best_xgb_accuracy:.4f}\")\n",
    "\n",
    "# Train best XGBoost model\n",
    "best_xgb = XGBClassifier(**best_xgb_params, random_state=42)\n",
    "best_xgb.fit(X_train_raw, y_train_raw)\n",
    "\n",
    "# Evaluate on test set\n",
    "y_pred_xgb = best_xgb.predict(X_test_raw)\n",
    "accuracy_xgb = accuracy_score(y_test_raw, y_pred_xgb)\n",
    "\n",
    "print(f\"✅ Best XGBoost Test Accuracy: {accuracy_xgb:.4f}\")"
   ],
   "id": "7fc94d79a7389033",
   "outputs": [
    {
     "name": "stdout",
     "output_type": "stream",
     "text": [
      "✅ Best XGBoost Parameters: {'learning_rate': 0.2, 'max_depth': 10, 'n_estimators': 100}\n",
      "✅ Best Cross-Validation Accuracy: 0.9230\n",
      "✅ Best XGBoost Test Accuracy: 0.9080\n"
     ]
    }
   ],
   "execution_count": 115
  },
  {
   "metadata": {
    "ExecuteTime": {
     "end_time": "2025-02-27T13:49:27.398227Z",
     "start_time": "2025-02-27T13:49:26.956017Z"
    }
   },
   "cell_type": "code",
   "source": [
    "from sklearn.svm import SVC\n",
    "\n",
    "# Define parameter grid\n",
    "param_grid_svm = {\n",
    "    \"C\": [0.1, 1, 10],\n",
    "    \"gamma\": [\"scale\", \"auto\", 0.01, 0.1, 1],\n",
    "    \"kernel\": [\"linear\", \"rbf\"]\n",
    "}\n",
    "\n",
    "# Initialize SVM\n",
    "svm = SVC(random_state=42)\n",
    "\n",
    "# Perform Grid Search\n",
    "grid_search_svm = GridSearchCV(svm, param_grid_svm, cv=5, scoring=\"accuracy\", n_jobs=-1)\n",
    "grid_search_svm.fit(X_train, y_train)\n",
    "\n",
    "# Best parameters\n",
    "best_svm_params = grid_search_svm.best_params_\n",
    "best_svm_accuracy = grid_search_svm.best_score_\n",
    "\n",
    "print(f\"✅ Best SVM Parameters: {best_svm_params}\")\n",
    "print(f\"✅ Best Cross-Validation Accuracy: {best_svm_accuracy:.4f}\")\n",
    "\n",
    "# Train best SVM model\n",
    "best_svm = SVC(**best_svm_params, random_state=42)\n",
    "best_svm.fit(X_train, y_train)\n",
    "\n",
    "# Evaluate on test set\n",
    "y_pred_svm = best_svm.predict(X_test)\n",
    "accuracy_svm = accuracy_score(y_test, y_pred_svm)\n",
    "\n",
    "print(f\"✅ Best SVM Test Accuracy: {accuracy_svm:.4f}\")"
   ],
   "id": "ca28bb182ae79daf",
   "outputs": [
    {
     "name": "stdout",
     "output_type": "stream",
     "text": [
      "✅ Best SVM Parameters: {'C': 10, 'gamma': 0.1, 'kernel': 'rbf'}\n",
      "✅ Best Cross-Validation Accuracy: 0.9294\n",
      "✅ Best SVM Test Accuracy: 0.9310\n"
     ]
    }
   ],
   "execution_count": 116
  },
  {
   "metadata": {
    "ExecuteTime": {
     "end_time": "2025-02-27T13:54:03.834468Z",
     "start_time": "2025-02-27T13:53:48.581903Z"
    }
   },
   "cell_type": "code",
   "source": [
    "from sklearn.neural_network import MLPClassifier\n",
    "\n",
    "# Define parameter grid\n",
    "param_grid_mlp = {\n",
    "    \"hidden_layer_sizes\": [(50,), (100,), (50, 50), (100, 50)],\n",
    "    \"activation\": [\"relu\", \"tanh\"],\n",
    "    \"alpha\": [0.0001, 0.001, 0.01]\n",
    "}\n",
    "\n",
    "# Initialize MLP\n",
    "mlp = MLPClassifier(max_iter=500, random_state=42)\n",
    "\n",
    "# Perform Grid Search\n",
    "grid_search_mlp = GridSearchCV(mlp, param_grid_mlp, cv=5, scoring=\"accuracy\", n_jobs=-1)\n",
    "grid_search_mlp.fit(X_train, y_train)\n",
    "\n",
    "# Best parameters\n",
    "best_mlp_params = grid_search_mlp.best_params_\n",
    "best_mlp_accuracy = grid_search_mlp.best_score_\n",
    "\n",
    "print(f\"✅ Best MLP Parameters: {best_mlp_params}\")\n",
    "print(f\"✅ Best Cross-Validation Accuracy: {best_mlp_accuracy:.4f}\")\n",
    "\n",
    "# Train best MLP model\n",
    "best_mlp = MLPClassifier(**best_mlp_params, max_iter=500, random_state=42)\n",
    "best_mlp.fit(X_train, y_train)\n",
    "\n",
    "# Evaluate on test set\n",
    "y_pred_mlp = best_mlp.predict(X_test)\n",
    "accuracy_mlp = accuracy_score(y_test, y_pred_mlp)\n",
    "\n",
    "print(f\"✅ Best MLP Test Accuracy: {accuracy_mlp:.4f}\")"
   ],
   "id": "1277f5227d016d31",
   "outputs": [
    {
     "name": "stderr",
     "output_type": "stream",
     "text": [
      "/opt/anaconda3/envs/Coins/lib/python3.8/site-packages/sklearn/neural_network/_multilayer_perceptron.py:702: ConvergenceWarning: Stochastic Optimizer: Maximum iterations (500) reached and the optimization hasn't converged yet.\n",
      "  warnings.warn(\n"
     ]
    },
    {
     "name": "stdout",
     "output_type": "stream",
     "text": [
      "✅ Best MLP Parameters: {'activation': 'tanh', 'alpha': 0.01, 'hidden_layer_sizes': (100,)}\n",
      "✅ Best Cross-Validation Accuracy: 0.9320\n",
      "✅ Best MLP Test Accuracy: 0.9310\n"
     ]
    },
    {
     "name": "stderr",
     "output_type": "stream",
     "text": [
      "/opt/anaconda3/envs/Coins/lib/python3.8/site-packages/sklearn/neural_network/_multilayer_perceptron.py:702: ConvergenceWarning: Stochastic Optimizer: Maximum iterations (500) reached and the optimization hasn't converged yet.\n",
      "  warnings.warn(\n"
     ]
    }
   ],
   "execution_count": 123
  },
  {
   "metadata": {
    "ExecuteTime": {
     "end_time": "2025-02-27T13:49:43.370963Z",
     "start_time": "2025-02-27T13:49:42.879405Z"
    }
   },
   "cell_type": "code",
   "source": [
    "from sklearn.ensemble import VotingClassifier\n",
    "\n",
    "# Define the best models\n",
    "best_rf = RandomForestClassifier(n_estimators=50, max_depth=10, min_samples_split=2, min_samples_leaf=2, random_state=42)\n",
    "best_xgb = XGBClassifier(n_estimators=100, max_depth=10, learning_rate=0.2, random_state=42)\n",
    "best_knn = KNeighborsClassifier(n_neighbors=7, weights=\"distance\", metric=\"manhattan\")  # Adjust if SVM is better\n",
    "\n",
    "# Combine models into a voting classifier (majority rule)\n",
    "voting_clf = VotingClassifier(\n",
    "    estimators=[\n",
    "        ('xgb', best_xgb),\n",
    "        ('rf', best_rf),\n",
    "        ('knn', best_knn)  # Swap for SVM if needed\n",
    "    ],\n",
    "    voting='hard'  # \"hard\" means majority rule\n",
    ")\n",
    "\n",
    "# Train on raw data (since k-NN uses normalized data, we need to choose models carefully)\n",
    "voting_clf.fit(X_train_raw, y_train_raw)\n",
    "\n",
    "# Evaluate accuracy\n",
    "y_pred_voting = voting_clf.predict(X_test_raw)\n",
    "accuracy_voting = accuracy_score(y_test_raw, y_pred_voting)\n",
    "\n",
    "print(f\"⚡ Voting Classifier Accuracy: {accuracy_voting:.4f}\")"
   ],
   "id": "fe75012efe95f3ef",
   "outputs": [
    {
     "name": "stdout",
     "output_type": "stream",
     "text": [
      "⚡ Voting Classifier Accuracy: 0.9195\n"
     ]
    }
   ],
   "execution_count": 118
  },
  {
   "metadata": {},
   "cell_type": "code",
   "outputs": [],
   "execution_count": null,
   "source": "",
   "id": "e9f7bdd16e3b338a"
  },
  {
   "metadata": {
    "ExecuteTime": {
     "end_time": "2025-02-27T13:49:44.039975Z",
     "start_time": "2025-02-27T13:49:43.417245Z"
    }
   },
   "cell_type": "code",
   "source": [
    "import matplotlib.pyplot as plt\n",
    "import numpy as np\n",
    "\n",
    "# Train XGBoost if it hasn't been trained\n",
    "if not hasattr(best_xgb, \"feature_importances_\"):\n",
    "    best_xgb.fit(X_train_raw, y_train_raw)\n",
    "\n",
    "# Get feature importance\n",
    "feature_importance = best_xgb.feature_importances_\n",
    "feature_names = X_train_raw.columns\n",
    "\n",
    "# Sort features by importance\n",
    "sorted_idx = np.argsort(feature_importance)[::-1]\n",
    "\n",
    "# Plot top features\n",
    "plt.figure(figsize=(12, 6))\n",
    "plt.bar(range(len(feature_importance)), feature_importance[sorted_idx])\n",
    "plt.xticks(range(len(feature_importance)), np.array(feature_names)[sorted_idx], rotation=90)\n",
    "plt.title(\"Feature Importance in XGBoost\")\n",
    "plt.xlabel(\"Features\")\n",
    "plt.ylabel(\"Importance Score\")\n",
    "plt.show()"
   ],
   "id": "db94e744e1d01313",
   "outputs": [
    {
     "data": {
      "text/plain": [
       "<Figure size 1200x600 with 1 Axes>"
      ],
      "image/png": "[encoded data removed]"
     },
     "metadata": {},
     "output_type": "display_data"
    }
   ],
   "execution_count": 119
  },
  {
   "metadata": {
    "ExecuteTime": {
     "end_time": "2025-02-27T13:49:44.091511Z",
     "start_time": "2025-02-27T13:49:44.087240Z"
    }
   },
   "cell_type": "code",
   "source": [
    "import pandas as pd\n",
    "import numpy as np\n",
    "\n",
    "# Get feature importance from XGBoost\n",
    "feature_importance_df = pd.DataFrame(\n",
    "    {\"Feature\": X_train_raw.columns, \"Importance\": best_xgb.feature_importances_}\n",
    ")\n",
    "\n",
    "# Sort features by importance\n",
    "feature_importance_df = feature_importance_df.sort_values(by=\"Importance\", ascending=False)\n",
    "\n",
    "# Display top features\n",
    "print(\"🔹 Top Features Used for Classification:\")\n",
    "print(feature_importance_df.head(15))"
   ],
   "id": "7d36d056045087cd",
   "outputs": [
    {
     "name": "stdout",
     "output_type": "stream",
     "text": [
      "🔹 Top Features Used for Classification:\n",
      "           Feature  Importance\n",
      "66       Nun_Count    0.257334\n",
      "78       Taf_Count    0.182206\n",
      "40        Het_StdY    0.092542\n",
      "0          A_Count    0.069216\n",
      "33        Vav_StdX    0.029067\n",
      "30       Vav_Count    0.022668\n",
      "23  Dalet_BoxRatio    0.015306\n",
      "21      Dalet_StdX    0.013208\n",
      "73       Resh_AvgX    0.013070\n",
      "56      Lamed_AvgY    0.012061\n",
      "35    Vav_BoxRatio    0.010751\n",
      "17  Gimel_BoxRatio    0.010710\n",
      "31        Vav_AvgX    0.009578\n",
      "16      Gimel_StdY    0.009062\n",
      "34        Vav_StdY    0.008997\n"
     ]
    }
   ],
   "execution_count": 120
  },
  {
   "metadata": {
    "ExecuteTime": {
     "end_time": "2025-02-27T13:49:44.351992Z",
     "start_time": "2025-02-27T13:49:44.136545Z"
    }
   },
   "cell_type": "code",
   "source": [
    "from xgboost import to_graphviz\n",
    "\n",
    "# Export the first tree to a Graphviz file\n",
    "tree_graph = to_graphviz(best_xgb, num_trees=0, rankdir=\"LR\")\n",
    "\n",
    "# Save as an SVG (scalable vector format, best for zooming)\n",
    "tree_graph.render(\"xgboost_tree\", format=\"svg\", cleanup=True)\n",
    "\n",
    "# Save as a PDF for high-quality printing\n",
    "tree_graph.render(\"xgboost_tree\", format=\"pdf\", cleanup=True)\n",
    "\n",
    "print(\"✅ Tree exported as 'xgboost_tree.svg' and 'xgboost_tree.pdf'.\")"
   ],
   "id": "125494f0b0e28c63",
   "outputs": [
    {
     "name": "stdout",
     "output_type": "stream",
     "text": [
      "✅ Tree exported as 'xgboost_tree.svg' and 'xgboost_tree.pdf'.\n"
     ]
    }
   ],
   "execution_count": 121
  },
  {
   "metadata": {
    "ExecuteTime": {
     "end_time": "2025-02-27T13:54:25.256018Z",
     "start_time": "2025-02-27T13:54:25.196080Z"
    }
   },
   "cell_type": "code",
   "source": [
    "# Convert the test set into an XGBoost DMatrix\n",
    "dtest = xgb.DMatrix(X_test_raw)\n",
    "\n",
    "# Get the predicted raw scores for a sample instance\n",
    "raw_predictions = best_xgb.predict(dtest, output_margin=True)  # Log-odds scores\n",
    "print(\"Raw class scores:\", raw_predictions[0])  # First sample output"
   ],
   "id": "fba3667d93a15b9b",
   "outputs": [
    {
     "name": "stderr",
     "output_type": "stream",
     "text": [
      "/opt/anaconda3/envs/Coins/lib/python3.8/site-packages/xgboost/data.py:1156: UserWarning: Unknown data type: <class 'xgboost.core.DMatrix'>, trying to convert it to csr_matrix\n",
      "  warnings.warn(\n"
     ]
    },
    {
     "ename": "TypeError",
     "evalue": "Not supported type for data.<class 'xgboost.core.DMatrix'>",
     "output_type": "error",
     "traceback": [
      "\u001B[0;31m---------------------------------------------------------------------------\u001B[0m",
      "\u001B[0;31mTypeError\u001B[0m                                 Traceback (most recent call last)",
      "Cell \u001B[0;32mIn[124], line 9\u001B[0m\n\u001B[1;32m      6\u001B[0m dtest \u001B[38;5;241m=\u001B[39m xgb\u001B[38;5;241m.\u001B[39mDMatrix(X_test_raw)\n\u001B[1;32m      8\u001B[0m \u001B[38;5;66;03m# Get the predicted raw scores for a sample instance\u001B[39;00m\n\u001B[0;32m----> 9\u001B[0m raw_predictions \u001B[38;5;241m=\u001B[39m \u001B[43mbest_xgb\u001B[49m\u001B[38;5;241;43m.\u001B[39;49m\u001B[43mpredict\u001B[49m\u001B[43m(\u001B[49m\u001B[43mdtest\u001B[49m\u001B[43m,\u001B[49m\u001B[43m \u001B[49m\u001B[43moutput_margin\u001B[49m\u001B[38;5;241;43m=\u001B[39;49m\u001B[38;5;28;43;01mTrue\u001B[39;49;00m\u001B[43m)\u001B[49m  \u001B[38;5;66;03m# Log-odds scores\u001B[39;00m\n\u001B[1;32m     10\u001B[0m \u001B[38;5;28mprint\u001B[39m(\u001B[38;5;124m\"\u001B[39m\u001B[38;5;124mRaw class scores:\u001B[39m\u001B[38;5;124m\"\u001B[39m, raw_predictions[\u001B[38;5;241m0\u001B[39m])\n",
      "File \u001B[0;32m/opt/anaconda3/envs/Coins/lib/python3.8/site-packages/xgboost/sklearn.py:1565\u001B[0m, in \u001B[0;36mXGBClassifier.predict\u001B[0;34m(self, X, output_margin, validate_features, base_margin, iteration_range)\u001B[0m\n\u001B[1;32m   1556\u001B[0m \u001B[38;5;28;01mdef\u001B[39;00m \u001B[38;5;21mpredict\u001B[39m(\n\u001B[1;32m   1557\u001B[0m     \u001B[38;5;28mself\u001B[39m,\n\u001B[1;32m   1558\u001B[0m     X: ArrayLike,\n\u001B[0;32m   (...)\u001B[0m\n\u001B[1;32m   1562\u001B[0m     iteration_range: Optional[IterationRange] \u001B[38;5;241m=\u001B[39m \u001B[38;5;28;01mNone\u001B[39;00m,\n\u001B[1;32m   1563\u001B[0m ) \u001B[38;5;241m-\u001B[39m\u001B[38;5;241m>\u001B[39m ArrayLike:\n\u001B[1;32m   1564\u001B[0m     \u001B[38;5;28;01mwith\u001B[39;00m config_context(verbosity\u001B[38;5;241m=\u001B[39m\u001B[38;5;28mself\u001B[39m\u001B[38;5;241m.\u001B[39mverbosity):\n\u001B[0;32m-> 1565\u001B[0m         class_probs \u001B[38;5;241m=\u001B[39m \u001B[38;5;28;43msuper\u001B[39;49m\u001B[43m(\u001B[49m\u001B[43m)\u001B[49m\u001B[38;5;241;43m.\u001B[39;49m\u001B[43mpredict\u001B[49m\u001B[43m(\u001B[49m\n\u001B[1;32m   1566\u001B[0m \u001B[43m            \u001B[49m\u001B[43mX\u001B[49m\u001B[38;5;241;43m=\u001B[39;49m\u001B[43mX\u001B[49m\u001B[43m,\u001B[49m\n\u001B[1;32m   1567\u001B[0m \u001B[43m            \u001B[49m\u001B[43moutput_margin\u001B[49m\u001B[38;5;241;43m=\u001B[39;49m\u001B[43moutput_margin\u001B[49m\u001B[43m,\u001B[49m\n\u001B[1;32m   1568\u001B[0m \u001B[43m            \u001B[49m\u001B[43mvalidate_features\u001B[49m\u001B[38;5;241;43m=\u001B[39;49m\u001B[43mvalidate_features\u001B[49m\u001B[43m,\u001B[49m\n\u001B[1;32m   1569\u001B[0m \u001B[43m            \u001B[49m\u001B[43mbase_margin\u001B[49m\u001B[38;5;241;43m=\u001B[39;49m\u001B[43mbase_margin\u001B[49m\u001B[43m,\u001B[49m\n\u001B[1;32m   1570\u001B[0m \u001B[43m            \u001B[49m\u001B[43miteration_range\u001B[49m\u001B[38;5;241;43m=\u001B[39;49m\u001B[43miteration_range\u001B[49m\u001B[43m,\u001B[49m\n\u001B[1;32m   1571\u001B[0m \u001B[43m        \u001B[49m\u001B[43m)\u001B[49m\n\u001B[1;32m   1572\u001B[0m         \u001B[38;5;28;01mif\u001B[39;00m output_margin:\n\u001B[1;32m   1573\u001B[0m             \u001B[38;5;66;03m# If output_margin is active, simply return the scores\u001B[39;00m\n\u001B[1;32m   1574\u001B[0m             \u001B[38;5;28;01mreturn\u001B[39;00m class_probs\n",
      "File \u001B[0;32m/opt/anaconda3/envs/Coins/lib/python3.8/site-packages/xgboost/sklearn.py:1203\u001B[0m, in \u001B[0;36mXGBModel.predict\u001B[0;34m(self, X, output_margin, validate_features, base_margin, iteration_range)\u001B[0m\n\u001B[1;32m   1199\u001B[0m     \u001B[38;5;28;01mexcept\u001B[39;00m \u001B[38;5;167;01mTypeError\u001B[39;00m:\n\u001B[1;32m   1200\u001B[0m         \u001B[38;5;66;03m# coo, csc, dt\u001B[39;00m\n\u001B[1;32m   1201\u001B[0m         \u001B[38;5;28;01mpass\u001B[39;00m\n\u001B[0;32m-> 1203\u001B[0m test \u001B[38;5;241m=\u001B[39m \u001B[43mDMatrix\u001B[49m\u001B[43m(\u001B[49m\n\u001B[1;32m   1204\u001B[0m \u001B[43m    \u001B[49m\u001B[43mX\u001B[49m\u001B[43m,\u001B[49m\n\u001B[1;32m   1205\u001B[0m \u001B[43m    \u001B[49m\u001B[43mbase_margin\u001B[49m\u001B[38;5;241;43m=\u001B[39;49m\u001B[43mbase_margin\u001B[49m\u001B[43m,\u001B[49m\n\u001B[1;32m   1206\u001B[0m \u001B[43m    \u001B[49m\u001B[43mmissing\u001B[49m\u001B[38;5;241;43m=\u001B[39;49m\u001B[38;5;28;43mself\u001B[39;49m\u001B[38;5;241;43m.\u001B[39;49m\u001B[43mmissing\u001B[49m\u001B[43m,\u001B[49m\n\u001B[1;32m   1207\u001B[0m \u001B[43m    \u001B[49m\u001B[43mnthread\u001B[49m\u001B[38;5;241;43m=\u001B[39;49m\u001B[38;5;28;43mself\u001B[39;49m\u001B[38;5;241;43m.\u001B[39;49m\u001B[43mn_jobs\u001B[49m\u001B[43m,\u001B[49m\n\u001B[1;32m   1208\u001B[0m \u001B[43m    \u001B[49m\u001B[43mfeature_types\u001B[49m\u001B[38;5;241;43m=\u001B[39;49m\u001B[38;5;28;43mself\u001B[39;49m\u001B[38;5;241;43m.\u001B[39;49m\u001B[43mfeature_types\u001B[49m\u001B[43m,\u001B[49m\n\u001B[1;32m   1209\u001B[0m \u001B[43m    \u001B[49m\u001B[43menable_categorical\u001B[49m\u001B[38;5;241;43m=\u001B[39;49m\u001B[38;5;28;43mself\u001B[39;49m\u001B[38;5;241;43m.\u001B[39;49m\u001B[43menable_categorical\u001B[49m\u001B[43m,\u001B[49m\n\u001B[1;32m   1210\u001B[0m \u001B[43m\u001B[49m\u001B[43m)\u001B[49m\n\u001B[1;32m   1211\u001B[0m \u001B[38;5;28;01mreturn\u001B[39;00m \u001B[38;5;28mself\u001B[39m\u001B[38;5;241m.\u001B[39mget_booster()\u001B[38;5;241m.\u001B[39mpredict(\n\u001B[1;32m   1212\u001B[0m     data\u001B[38;5;241m=\u001B[39mtest,\n\u001B[1;32m   1213\u001B[0m     iteration_range\u001B[38;5;241m=\u001B[39miteration_range,\n\u001B[1;32m   1214\u001B[0m     output_margin\u001B[38;5;241m=\u001B[39moutput_margin,\n\u001B[1;32m   1215\u001B[0m     validate_features\u001B[38;5;241m=\u001B[39mvalidate_features,\n\u001B[1;32m   1216\u001B[0m )\n",
      "File \u001B[0;32m/opt/anaconda3/envs/Coins/lib/python3.8/site-packages/xgboost/core.py:726\u001B[0m, in \u001B[0;36mrequire_keyword_args.<locals>.throw_if.<locals>.inner_f\u001B[0;34m(*args, **kwargs)\u001B[0m\n\u001B[1;32m    724\u001B[0m \u001B[38;5;28;01mfor\u001B[39;00m k, arg \u001B[38;5;129;01min\u001B[39;00m \u001B[38;5;28mzip\u001B[39m(sig\u001B[38;5;241m.\u001B[39mparameters, args):\n\u001B[1;32m    725\u001B[0m     kwargs[k] \u001B[38;5;241m=\u001B[39m arg\n\u001B[0;32m--> 726\u001B[0m \u001B[38;5;28;01mreturn\u001B[39;00m \u001B[43mfunc\u001B[49m\u001B[43m(\u001B[49m\u001B[38;5;241;43m*\u001B[39;49m\u001B[38;5;241;43m*\u001B[39;49m\u001B[43mkwargs\u001B[49m\u001B[43m)\u001B[49m\n",
      "File \u001B[0;32m/opt/anaconda3/envs/Coins/lib/python3.8/site-packages/xgboost/core.py:878\u001B[0m, in \u001B[0;36mDMatrix.__init__\u001B[0;34m(self, data, label, weight, base_margin, missing, silent, feature_names, feature_types, nthread, group, qid, label_lower_bound, label_upper_bound, feature_weights, enable_categorical, data_split_mode)\u001B[0m\n\u001B[1;32m    875\u001B[0m     \u001B[38;5;28;01massert\u001B[39;00m \u001B[38;5;28mself\u001B[39m\u001B[38;5;241m.\u001B[39mhandle \u001B[38;5;129;01mis\u001B[39;00m \u001B[38;5;129;01mnot\u001B[39;00m \u001B[38;5;28;01mNone\u001B[39;00m\n\u001B[1;32m    876\u001B[0m     \u001B[38;5;28;01mreturn\u001B[39;00m\n\u001B[0;32m--> 878\u001B[0m handle, feature_names, feature_types \u001B[38;5;241m=\u001B[39m \u001B[43mdispatch_data_backend\u001B[49m\u001B[43m(\u001B[49m\n\u001B[1;32m    879\u001B[0m \u001B[43m    \u001B[49m\u001B[43mdata\u001B[49m\u001B[43m,\u001B[49m\n\u001B[1;32m    880\u001B[0m \u001B[43m    \u001B[49m\u001B[43mmissing\u001B[49m\u001B[38;5;241;43m=\u001B[39;49m\u001B[38;5;28;43mself\u001B[39;49m\u001B[38;5;241;43m.\u001B[39;49m\u001B[43mmissing\u001B[49m\u001B[43m,\u001B[49m\n\u001B[1;32m    881\u001B[0m \u001B[43m    \u001B[49m\u001B[43mthreads\u001B[49m\u001B[38;5;241;43m=\u001B[39;49m\u001B[38;5;28;43mself\u001B[39;49m\u001B[38;5;241;43m.\u001B[39;49m\u001B[43mnthread\u001B[49m\u001B[43m,\u001B[49m\n\u001B[1;32m    882\u001B[0m \u001B[43m    \u001B[49m\u001B[43mfeature_names\u001B[49m\u001B[38;5;241;43m=\u001B[39;49m\u001B[43mfeature_names\u001B[49m\u001B[43m,\u001B[49m\n\u001B[1;32m    883\u001B[0m \u001B[43m    \u001B[49m\u001B[43mfeature_types\u001B[49m\u001B[38;5;241;43m=\u001B[39;49m\u001B[43mfeature_types\u001B[49m\u001B[43m,\u001B[49m\n\u001B[1;32m    884\u001B[0m \u001B[43m    \u001B[49m\u001B[43menable_categorical\u001B[49m\u001B[38;5;241;43m=\u001B[39;49m\u001B[43menable_categorical\u001B[49m\u001B[43m,\u001B[49m\n\u001B[1;32m    885\u001B[0m \u001B[43m    \u001B[49m\u001B[43mdata_split_mode\u001B[49m\u001B[38;5;241;43m=\u001B[39;49m\u001B[43mdata_split_mode\u001B[49m\u001B[43m,\u001B[49m\n\u001B[1;32m    886\u001B[0m \u001B[43m\u001B[49m\u001B[43m)\u001B[49m\n\u001B[1;32m    887\u001B[0m \u001B[38;5;28;01massert\u001B[39;00m handle \u001B[38;5;129;01mis\u001B[39;00m \u001B[38;5;129;01mnot\u001B[39;00m \u001B[38;5;28;01mNone\u001B[39;00m\n\u001B[1;32m    888\u001B[0m \u001B[38;5;28mself\u001B[39m\u001B[38;5;241m.\u001B[39mhandle \u001B[38;5;241m=\u001B[39m handle\n",
      "File \u001B[0;32m/opt/anaconda3/envs/Coins/lib/python3.8/site-packages/xgboost/data.py:1267\u001B[0m, in \u001B[0;36mdispatch_data_backend\u001B[0;34m(data, missing, threads, feature_names, feature_types, enable_categorical, data_split_mode)\u001B[0m\n\u001B[1;32m   1262\u001B[0m \u001B[38;5;28;01mif\u001B[39;00m converted \u001B[38;5;129;01mis\u001B[39;00m \u001B[38;5;129;01mnot\u001B[39;00m \u001B[38;5;28;01mNone\u001B[39;00m:\n\u001B[1;32m   1263\u001B[0m     \u001B[38;5;28;01mreturn\u001B[39;00m _from_scipy_csr(\n\u001B[1;32m   1264\u001B[0m         converted, missing, threads, feature_names, feature_types\n\u001B[1;32m   1265\u001B[0m     )\n\u001B[0;32m-> 1267\u001B[0m \u001B[38;5;28;01mraise\u001B[39;00m \u001B[38;5;167;01mTypeError\u001B[39;00m(\u001B[38;5;124m\"\u001B[39m\u001B[38;5;124mNot supported type for data.\u001B[39m\u001B[38;5;124m\"\u001B[39m \u001B[38;5;241m+\u001B[39m \u001B[38;5;28mstr\u001B[39m(\u001B[38;5;28mtype\u001B[39m(data)))\n",
      "\u001B[0;31mTypeError\u001B[0m: Not supported type for data.<class 'xgboost.core.DMatrix'>"
     ]
    }
   ],
   "execution_count": 124
  },
  {
   "metadata": {
    "ExecuteTime": {
     "end_time": "2025-02-27T13:55:16.179474Z",
     "start_time": "2025-02-27T13:55:16.166670Z"
    }
   },
   "cell_type": "code",
   "source": [
    "import joblib\n",
    "\n",
    "# Save the trained XGBoost model\n",
    "joblib.dump(best_xgb, \"xgboost_ruler_classifier.pkl\")\n",
    "\n",
    "print(\"✅ Model saved as 'xgboost_ruler_classifier.pkl'\")"
   ],
   "id": "b12df455835b0bbc",
   "outputs": [
    {
     "name": "stdout",
     "output_type": "stream",
     "text": [
      "✅ Model saved as 'xgboost_ruler_classifier.pkl'\n"
     ]
    }
   ],
   "execution_count": 125
  },
  {
   "metadata": {
    "ExecuteTime": {
     "end_time": "2025-02-27T13:55:16.215509Z",
     "start_time": "2025-02-27T13:55:16.186843Z"
    }
   },
   "cell_type": "code",
   "source": [
    "# Load the saved model\n",
    "loaded_xgb = joblib.load(\"xgboost_ruler_classifier.pkl\")\n",
    "\n",
    "# Test if it predicts correctly\n",
    "sample_input = X_test_raw.iloc[:1]  # Take a single test example\n",
    "predicted_ruler = loaded_xgb.predict(sample_input)\n",
    "\n",
    "print(f\"✅ Model successfully loaded. Predicted class: {predicted_ruler[0]}\")"
   ],
   "id": "2cf363c49b90f0c6",
   "outputs": [
    {
     "name": "stdout",
     "output_type": "stream",
     "text": [
      "✅ Model successfully loaded. Predicted class: 1\n"
     ]
    }
   ],
   "execution_count": 126
  },
  {
   "metadata": {
    "ExecuteTime": {
     "end_time": "2025-02-27T13:55:16.744402Z",
     "start_time": "2025-02-27T13:55:16.265216Z"
    }
   },
   "cell_type": "code",
   "source": [
    "from xgboost import XGBClassifier\n",
    "from sklearn.metrics import accuracy_score\n",
    "\n",
    "# Train XGBoost on normalized data\n",
    "xgb_norm = XGBClassifier(n_estimators=100, max_depth=10, learning_rate=0.2, random_state=42)\n",
    "xgb_norm.fit(X_train, y_train)\n",
    "\n",
    "# Make predictions\n",
    "y_pred_xgb_norm = xgb_norm.predict(X_test)\n",
    "\n",
    "# Evaluate accuracy\n",
    "accuracy_xgb_norm = accuracy_score(y_test, y_pred_xgb_norm)\n",
    "print(f\"✅ XGBoost Accuracy with Normalized Data: {accuracy_xgb_norm:.4f}\")"
   ],
   "id": "3b979607fc4b045a",
   "outputs": [
    {
     "name": "stdout",
     "output_type": "stream",
     "text": [
      "✅ XGBoost Accuracy with Normalized Data: 0.9195\n"
     ]
    }
   ],
   "execution_count": 127
  },
  {
   "metadata": {
    "ExecuteTime": {
     "end_time": "2025-02-27T13:55:16.795430Z",
     "start_time": "2025-02-27T13:55:16.793215Z"
    }
   },
   "cell_type": "code",
   "source": [
    "# Load previous accuracy for comparison\n",
    "accuracy_xgb_raw = accuracy_xgb  # From your raw data model\n",
    "\n",
    "print(f\"⚖️  XGBoost Comparison:\")\n",
    "print(f\"✅ Raw Data Accuracy: {accuracy_xgb_raw:.4f}\")\n",
    "print(f\"✅ Normalized Data Accuracy: {accuracy_xgb_norm:.4f}\")"
   ],
   "id": "a4253bf1c59a0ca2",
   "outputs": [
    {
     "name": "stdout",
     "output_type": "stream",
     "text": [
      "⚖️  XGBoost Comparison:\n",
      "✅ Raw Data Accuracy: 0.9080\n",
      "✅ Normalized Data Accuracy: 0.9195\n"
     ]
    }
   ],
   "execution_count": 128
  },
  {
   "metadata": {
    "ExecuteTime": {
     "end_time": "2025-02-27T13:55:40.764175Z",
     "start_time": "2025-02-27T13:55:16.842455Z"
    }
   },
   "cell_type": "code",
   "source": [
    "from sklearn.model_selection import GridSearchCV\n",
    "from xgboost import XGBClassifier\n",
    "\n",
    "# Define parameter grid for tuning\n",
    "param_grid_xgb_norm = {\n",
    "    \"n_estimators\": [50, 100, 200],\n",
    "    \"max_depth\": [3, 5, 10],\n",
    "    \"learning_rate\": [0.01, 0.1, 0.2],\n",
    "    \"gamma\": [0, 0.1, 0.2]\n",
    "}\n",
    "\n",
    "# Initialize XGBoost model\n",
    "xgb_norm_tuned = XGBClassifier(random_state=42)\n",
    "\n",
    "# Perform Grid Search\n",
    "grid_search_xgb_norm = GridSearchCV(xgb_norm_tuned, param_grid_xgb_norm, cv=5, scoring=\"accuracy\", n_jobs=-1)\n",
    "grid_search_xgb_norm.fit(X_train, y_train)\n",
    "\n",
    "# Get best parameters\n",
    "best_xgb_norm_params = grid_search_xgb_norm.best_params_\n",
    "best_xgb_norm_accuracy = grid_search_xgb_norm.best_score_\n",
    "\n",
    "print(f\"✅ Best XGBoost Parameters (Normalized Data): {best_xgb_norm_params}\")\n",
    "print(f\"✅ Best Cross-Validation Accuracy: {best_xgb_norm_accuracy:.4f}\")\n",
    "\n",
    "# Train best model on normalized data\n",
    "best_xgb_norm = XGBClassifier(**best_xgb_norm_params, random_state=42)\n",
    "best_xgb_norm.fit(X_train, y_train)\n",
    "\n",
    "# Evaluate on test set\n",
    "y_pred_best_xgb_norm = best_xgb_norm.predict(X_test)\n",
    "accuracy_best_xgb_norm = accuracy_score(y_test, y_pred_best_xgb_norm)\n",
    "\n",
    "print(f\"✅ Best XGBoost Test Accuracy with Normalized Data: {accuracy_best_xgb_norm:.4f}\")"
   ],
   "id": "a19177a8c5ed7fbd",
   "outputs": [
    {
     "name": "stdout",
     "output_type": "stream",
     "text": [
      "✅ Best XGBoost Parameters (Normalized Data): {'gamma': 0, 'learning_rate': 0.2, 'max_depth': 10, 'n_estimators': 200}\n",
      "✅ Best Cross-Validation Accuracy: 0.9371\n",
      "✅ Best XGBoost Test Accuracy with Normalized Data: 0.9310\n"
     ]
    }
   ],
   "execution_count": 129
  },
  {
   "metadata": {
    "ExecuteTime": {
     "end_time": "2025-02-27T14:00:38.348757Z",
     "start_time": "2025-02-27T14:00:38.220385Z"
    }
   },
   "cell_type": "code",
   "source": [
    "import matplotlib.pyplot as plt\n",
    "import numpy as np\n",
    "\n",
    "# Model names and accuracies\n",
    "models = [\"k-NN\", \"Random Forest\", \"SVM\", \"MLP\", \"XGBoost (Raw)\", \"XGBoost (Normalized)\", \"Voting Classifier\"]\n",
    "accuracies = [90, 90, 93, 93, 90, 93, 91]\n",
    "\n",
    "# Define bar positions\n",
    "x_pos = np.arange(len(models))\n",
    "\n",
    "# Create figure and axis\n",
    "fig, ax = plt.subplots(figsize=(10, 6))\n",
    "bars = ax.bar(x_pos, accuracies, color=['blue', 'green', 'orange', 'red', 'purple', 'purple'])\n",
    "\n",
    "# Labels and title\n",
    "ax.set_xlabel(\"Machine Learning Models\", fontsize=12)\n",
    "ax.set_ylabel(\"Accuracy (%)\", fontsize=12)\n",
    "ax.set_title(\"Model Performance Comparison for Hasmonean Ruler Classification\", fontsize=14)\n",
    "ax.set_ylim(80, 100)\n",
    "ax.set_xticks(x_pos)\n",
    "ax.set_xticklabels(models, rotation=25, fontsize=10)\n",
    "ax.grid(axis='y', linestyle='--', alpha=0.7)\n",
    "\n",
    "# Display accuracy values on top of bars\n",
    "for bar, acc in zip(bars, accuracies):\n",
    "    height = bar.get_height()\n",
    "    ax.text(bar.get_x() + bar.get_width()/2, height + 0.5, f\"{acc}%\", ha='center', fontsize=12, fontweight='bold')\n",
    "\n",
    "# Show plot\n",
    "plt.tight_layout()\n",
    "plt.show()"
   ],
   "id": "3d03a135f725db8",
   "outputs": [
    {
     "data": {
      "text/plain": [
       "<Figure size 1000x600 with 1 Axes>"
      ],
      "image/png": "[encoded data removed]"
     },
     "metadata": {},
     "output_type": "display_data"
    }
   ],
   "execution_count": 131
  },
  {
   "metadata": {
    "ExecuteTime": {
     "end_time": "2025-02-27T15:09:41.642350Z",
     "start_time": "2025-02-27T15:09:40.277553Z"
    }
   },
   "cell_type": "code",
   "source": [
    "from xgboost import XGBClassifier, to_graphviz\n",
    "from sklearn.metrics import accuracy_score\n",
    "import joblib\n",
    "import numpy as np\n",
    "import pandas as pd\n",
    "import matplotlib.pyplot as plt\n",
    "\n",
    "# Train XGBoost on normalized data\n",
    "best_xgb = XGBClassifier(n_estimators=200, max_depth=10, learning_rate=0.2, gamma=0, random_state=42)\n",
    "best_xgb.fit(X_train, y_train)\n",
    "\n",
    "# Make predictions\n",
    "y_pred_xgb = best_xgb.predict(X_test)\n",
    "\n",
    "# Evaluate accuracy\n",
    "accuracy_xgb = accuracy_score(y_test, y_pred_xgb)\n",
    "print(f\"✅ Best XGBoost Test Accuracy with Normalized Data: {accuracy_xgb:.4f}\")\n",
    "\n",
    "# Save the trained model\n",
    "joblib.dump(best_xgb, \"xgboost_ruler_classifier.pkl\")\n",
    "print(\"✅ Model saved as 'xgboost_ruler_classifier.pkl'\")\n",
    "\n",
    "# Feature importance\n",
    "feature_importance = best_xgb.feature_importances_\n",
    "feature_names = X_train.columns\n",
    "\n",
    "# Sort features by importance\n",
    "sorted_idx = np.argsort(feature_importance)[::-1]\n",
    "\n",
    "# Plot feature importance\n",
    "plt.figure(figsize=(12, 6))\n",
    "plt.bar(range(len(feature_importance)), feature_importance[sorted_idx])\n",
    "plt.xticks(range(len(feature_importance)), np.array(feature_names)[sorted_idx], rotation=90)\n",
    "plt.title(\"Feature Importance in XGBoost\")\n",
    "plt.xlabel(\"Features\")\n",
    "plt.ylabel(\"Importance Score\")\n",
    "plt.show()\n",
    "\n",
    "# Store feature importance in a DataFrame\n",
    "feature_importance_df = pd.DataFrame({\n",
    "    \"Feature\": feature_names, \"Importance\": feature_importance\n",
    "}).sort_values(by=\"Importance\", ascending=False)\n",
    "\n",
    "print(\"🔹 Top Features Used for Classification:\")\n",
    "print(feature_importance_df.head(15))\n",
    "\n",
    "# Export the first decision tree visualization\n",
    "tree_graph = to_graphviz(best_xgb, num_trees=0, rankdir=\"LR\")\n",
    "tree_graph.render(\"xgboost_tree\", format=\"svg\", cleanup=True)\n",
    "tree_graph.render(\"xgboost_tree\", format=\"pdf\", cleanup=True)\n",
    "print(\"✅ Decision tree exported as 'xgboost_tree.svg' and 'xgboost_tree.pdf'\")"
   ],
   "id": "e306fde6b92c6b78",
   "outputs": [
    {
     "name": "stdout",
     "output_type": "stream",
     "text": [
      "✅ Best XGBoost Test Accuracy with Normalized Data: 0.9310\n",
      "✅ Model saved as 'xgboost_ruler_classifier.pkl'\n"
     ]
    },
    {
     "data": {
      "text/plain": [
       "<Figure size 1200x600 with 1 Axes>"
      ],
      "image/png": "[encoded data removed]"
     },
     "metadata": {},
     "output_type": "display_data"
    },
    {
     "name": "stdout",
     "output_type": "stream",
     "text": [
      "🔹 Top Features Used for Classification:\n",
      "         Feature  Importance\n",
      "78     Taf_Count    0.206609\n",
      "66     Nun_Count    0.153392\n",
      "40      Het_StdY    0.103618\n",
      "0        A_Count    0.062039\n",
      "69      Nun_StdX    0.061588\n",
      "33      Vav_StdX    0.042279\n",
      "18   Dalet_Count    0.025721\n",
      "24     Hei_Count    0.020402\n",
      "55    Lamed_AvgX    0.015308\n",
      "73     Resh_AvgX    0.014435\n",
      "12   Gimel_Count    0.013786\n",
      "54   Lamed_Count    0.012244\n",
      "13    Gimel_AvgX    0.010457\n",
      "45      Yod_StdX    0.010243\n",
      "71  Nun_BoxRatio    0.009202\n",
      "✅ Decision tree exported as 'xgboost_tree.svg' and 'xgboost_tree.pdf'\n"
     ]
    }
   ],
   "execution_count": 132
  },
  {
   "metadata": {
    "ExecuteTime": {
     "end_time": "2025-02-27T15:22:06.215677Z",
     "start_time": "2025-02-27T15:22:05.820583Z"
    }
   },
   "cell_type": "code",
   "source": [
    "class_mapping = {0: \"Alexander\", 1: \"John\", 2: \"Judah\"}\n",
    "\n",
    "num_classes = len(class_mapping)  # Should be 3\n",
    "for i in range(num_classes):\n",
    "    tree_graph = to_graphviz(best_xgb, num_trees=i, rankdir=\"LR\")\n",
    "    tree_graph.render(f\"xgboost_tree_{class_mapping[i]}\", format=\"pdf\", cleanup=True)\n",
    "    print(f\"✅ Exported 'xgboost_tree_{class_mapping[i]}.pdf'\")"
   ],
   "id": "b42ecb5a304a497c",
   "outputs": [
    {
     "name": "stdout",
     "output_type": "stream",
     "text": [
      "✅ Exported 'xgboost_tree_Alexander.pdf'\n",
      "✅ Exported 'xgboost_tree_John.pdf'\n",
      "✅ Exported 'xgboost_tree_Judah.pdf'\n"
     ]
    }
   ],
   "execution_count": 133
  },
  {
   "metadata": {
    "ExecuteTime": {
     "end_time": "2025-02-27T15:26:06.844889Z",
     "start_time": "2025-02-27T15:26:06.833881Z"
    }
   },
   "cell_type": "code",
   "source": "print(\"XGBoost Internal Class Order:\", best_xgb.classes_)",
   "id": "a6e7280cd9e6e02e",
   "outputs": [
    {
     "name": "stdout",
     "output_type": "stream",
     "text": [
      "XGBoost Internal Class Order: [0 1 2]\n"
     ]
    }
   ],
   "execution_count": 134
  },
  {
   "metadata": {
    "ExecuteTime": {
     "end_time": "2025-02-27T15:26:36.673352Z",
     "start_time": "2025-02-27T15:26:36.332015Z"
    }
   },
   "cell_type": "code",
   "source": [
    "class_order = best_xgb.classes_  # Get actual class order used by XGBoost\n",
    "class_mapping = {i: class_order[i] for i in range(len(class_order))}\n",
    "\n",
    "for i in range(len(class_order)):\n",
    "    tree_graph = to_graphviz(best_xgb, num_trees=i, rankdir=\"LR\")\n",
    "    tree_graph.render(f\"xgboost_tree_{class_mapping[i]}\", format=\"pdf\", cleanup=True)\n",
    "    print(f\"✅ Exported 'xgboost_tree_{class_mapping[i]}.pdf'\")"
   ],
   "id": "af92f38b0746fab3",
   "outputs": [
    {
     "name": "stdout",
     "output_type": "stream",
     "text": [
      "✅ Exported 'xgboost_tree_0.pdf'\n",
      "✅ Exported 'xgboost_tree_1.pdf'\n",
      "✅ Exported 'xgboost_tree_2.pdf'\n"
     ]
    }
   ],
   "execution_count": 135
  }
 ],
 "metadata": {
  "kernelspec": {
   "display_name": "Python 3",
   "language": "python",
   "name": "python3"
  },
  "language_info": {
   "codemirror_mode": {
    "name": "ipython",
    "version": 2
   },
   "file_extension": ".py",
   "mimetype": "text/x-python",
   "name": "python",
   "nbconvert_exporter": "python",
   "pygments_lexer": "ipython2",
   "version": "2.7.6"
  }
 },
 "nbformat": 4,
 "nbformat_minor": 5
}
