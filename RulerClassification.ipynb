{
 "cells": [
  {
   "cell_type": "code",
   "id": "initial_id",
   "metadata": {
    "collapsed": true,
    "ExecuteTime": {
     "end_time": "2025-02-17T18:19:19.456120Z",
     "start_time": "2025-02-17T18:19:19.438060Z"
    }
   },
   "source": [
    "import pandas as pd\n",
    "\n",
    "# Load the dataset\n",
    "df = pd.read_csv(\"data.csv\")\n",
    "\n",
    "# Display the first few rows\n",
    "df.head()\n"
   ],
   "outputs": [
    {
     "data": {
      "text/plain": [
       "            Filename      Class  Image_Width  Image_Height  A_Count  A_AvgX  \\\n",
       "0  Alexander_204.png  Alexander       1880.0        1880.0      0.0     0.0   \n",
       "1   Alexander_42.png  Alexander       1604.0        1604.0      0.0     0.0   \n",
       "2   Alexander_56.png  Alexander        543.0         543.0      0.0     0.0   \n",
       "3   Alexander_95.png  Alexander        521.0         521.0      0.0     0.0   \n",
       "4  Alexander_199.png  Alexander        377.0         377.0      0.0     0.0   \n",
       "\n",
       "   A_AvgY  A_StdX  A_StdY  A_BoxRatio  ...  Resh_AvgY  Resh_StdX  Resh_StdY  \\\n",
       "0     0.0     0.0     0.0         0.0  ...     1063.0        0.0        0.0   \n",
       "1     0.0     0.0     0.0         0.0  ...        0.0        0.0        0.0   \n",
       "2     0.0     0.0     0.0         0.0  ...        0.0        0.0        0.0   \n",
       "3     0.0     0.0     0.0         0.0  ...      363.5        0.0        0.0   \n",
       "4     0.0     0.0     0.0         0.0  ...      277.5        0.0        0.0   \n",
       "\n",
       "   Resh_BoxRatio  Taf_Count  Taf_AvgX  Taf_AvgY  Taf_StdX  Taf_StdY  \\\n",
       "0       0.743902        1.0    1212.5     564.5       0.0       0.0   \n",
       "1       0.000000        0.0       0.0       0.0       0.0       0.0   \n",
       "2       0.000000        0.0       0.0       0.0       0.0       0.0   \n",
       "3       0.830986        1.0     208.0     228.0       0.0       0.0   \n",
       "4       0.698413        0.0       0.0       0.0       0.0       0.0   \n",
       "\n",
       "   Taf_BoxRatio  \n",
       "0      1.090452  \n",
       "1      0.000000  \n",
       "2      0.000000  \n",
       "3      0.729730  \n",
       "4      0.000000  \n",
       "\n",
       "[5 rows x 88 columns]"
      ],
      "text/html": [
       "<div>\n",
       "<style scoped>\n",
       "    .dataframe tbody tr th:only-of-type {\n",
       "        vertical-align: middle;\n",
       "    }\n",
       "\n",
       "    .dataframe tbody tr th {\n",
       "        vertical-align: top;\n",
       "    }\n",
       "\n",
       "    .dataframe thead th {\n",
       "        text-align: right;\n",
       "    }\n",
       "</style>\n",
       "<table border=\"1\" class=\"dataframe\">\n",
       "  <thead>\n",
       "    <tr style=\"text-align: right;\">\n",
       "      <th></th>\n",
       "      <th>Filename</th>\n",
       "      <th>Class</th>\n",
       "      <th>Image_Width</th>\n",
       "      <th>Image_Height</th>\n",
       "      <th>A_Count</th>\n",
       "      <th>A_AvgX</th>\n",
       "      <th>A_AvgY</th>\n",
       "      <th>A_StdX</th>\n",
       "      <th>A_StdY</th>\n",
       "      <th>A_BoxRatio</th>\n",
       "      <th>...</th>\n",
       "      <th>Resh_AvgY</th>\n",
       "      <th>Resh_StdX</th>\n",
       "      <th>Resh_StdY</th>\n",
       "      <th>Resh_BoxRatio</th>\n",
       "      <th>Taf_Count</th>\n",
       "      <th>Taf_AvgX</th>\n",
       "      <th>Taf_AvgY</th>\n",
       "      <th>Taf_StdX</th>\n",
       "      <th>Taf_StdY</th>\n",
       "      <th>Taf_BoxRatio</th>\n",
       "    </tr>\n",
       "  </thead>\n",
       "  <tbody>\n",
       "    <tr>\n",
       "      <th>0</th>\n",
       "      <td>Alexander_204.png</td>\n",
       "      <td>Alexander</td>\n",
       "      <td>1880.0</td>\n",
       "      <td>1880.0</td>\n",
       "      <td>0.0</td>\n",
       "      <td>0.0</td>\n",
       "      <td>0.0</td>\n",
       "      <td>0.0</td>\n",
       "      <td>0.0</td>\n",
       "      <td>0.0</td>\n",
       "      <td>...</td>\n",
       "      <td>1063.0</td>\n",
       "      <td>0.0</td>\n",
       "      <td>0.0</td>\n",
       "      <td>0.743902</td>\n",
       "      <td>1.0</td>\n",
       "      <td>1212.5</td>\n",
       "      <td>564.5</td>\n",
       "      <td>0.0</td>\n",
       "      <td>0.0</td>\n",
       "      <td>1.090452</td>\n",
       "    </tr>\n",
       "    <tr>\n",
       "      <th>1</th>\n",
       "      <td>Alexander_42.png</td>\n",
       "      <td>Alexander</td>\n",
       "      <td>1604.0</td>\n",
       "      <td>1604.0</td>\n",
       "      <td>0.0</td>\n",
       "      <td>0.0</td>\n",
       "      <td>0.0</td>\n",
       "      <td>0.0</td>\n",
       "      <td>0.0</td>\n",
       "      <td>0.0</td>\n",
       "      <td>...</td>\n",
       "      <td>0.0</td>\n",
       "      <td>0.0</td>\n",
       "      <td>0.0</td>\n",
       "      <td>0.000000</td>\n",
       "      <td>0.0</td>\n",
       "      <td>0.0</td>\n",
       "      <td>0.0</td>\n",
       "      <td>0.0</td>\n",
       "      <td>0.0</td>\n",
       "      <td>0.000000</td>\n",
       "    </tr>\n",
       "    <tr>\n",
       "      <th>2</th>\n",
       "      <td>Alexander_56.png</td>\n",
       "      <td>Alexander</td>\n",
       "      <td>543.0</td>\n",
       "      <td>543.0</td>\n",
       "      <td>0.0</td>\n",
       "      <td>0.0</td>\n",
       "      <td>0.0</td>\n",
       "      <td>0.0</td>\n",
       "      <td>0.0</td>\n",
       "      <td>0.0</td>\n",
       "      <td>...</td>\n",
       "      <td>0.0</td>\n",
       "      <td>0.0</td>\n",
       "      <td>0.0</td>\n",
       "      <td>0.000000</td>\n",
       "      <td>0.0</td>\n",
       "      <td>0.0</td>\n",
       "      <td>0.0</td>\n",
       "      <td>0.0</td>\n",
       "      <td>0.0</td>\n",
       "      <td>0.000000</td>\n",
       "    </tr>\n",
       "    <tr>\n",
       "      <th>3</th>\n",
       "      <td>Alexander_95.png</td>\n",
       "      <td>Alexander</td>\n",
       "      <td>521.0</td>\n",
       "      <td>521.0</td>\n",
       "      <td>0.0</td>\n",
       "      <td>0.0</td>\n",
       "      <td>0.0</td>\n",
       "      <td>0.0</td>\n",
       "      <td>0.0</td>\n",
       "      <td>0.0</td>\n",
       "      <td>...</td>\n",
       "      <td>363.5</td>\n",
       "      <td>0.0</td>\n",
       "      <td>0.0</td>\n",
       "      <td>0.830986</td>\n",
       "      <td>1.0</td>\n",
       "      <td>208.0</td>\n",
       "      <td>228.0</td>\n",
       "      <td>0.0</td>\n",
       "      <td>0.0</td>\n",
       "      <td>0.729730</td>\n",
       "    </tr>\n",
       "    <tr>\n",
       "      <th>4</th>\n",
       "      <td>Alexander_199.png</td>\n",
       "      <td>Alexander</td>\n",
       "      <td>377.0</td>\n",
       "      <td>377.0</td>\n",
       "      <td>0.0</td>\n",
       "      <td>0.0</td>\n",
       "      <td>0.0</td>\n",
       "      <td>0.0</td>\n",
       "      <td>0.0</td>\n",
       "      <td>0.0</td>\n",
       "      <td>...</td>\n",
       "      <td>277.5</td>\n",
       "      <td>0.0</td>\n",
       "      <td>0.0</td>\n",
       "      <td>0.698413</td>\n",
       "      <td>0.0</td>\n",
       "      <td>0.0</td>\n",
       "      <td>0.0</td>\n",
       "      <td>0.0</td>\n",
       "      <td>0.0</td>\n",
       "      <td>0.000000</td>\n",
       "    </tr>\n",
       "  </tbody>\n",
       "</table>\n",
       "<p>5 rows × 88 columns</p>\n",
       "</div>"
      ]
     },
     "execution_count": 119,
     "metadata": {},
     "output_type": "execute_result"
    }
   ],
   "execution_count": 119
  },
  {
   "metadata": {
    "ExecuteTime": {
     "end_time": "2025-02-17T18:19:19.496068Z",
     "start_time": "2025-02-17T18:19:19.486941Z"
    }
   },
   "cell_type": "code",
   "source": [
    "# Find rows where Image_Width or Image_Height is 0\n",
    "invalid_rows = df[(df[\"Image_Width\"] == 0) | (df[\"Image_Height\"] == 0)]\n",
    "print(\"Images with zero width/height:\")\n",
    "display(invalid_rows)  # If using Jupyter Notebook\n",
    "\n",
    "df = df[(df[\"Image_Width\"] > 0) & (df[\"Image_Height\"] > 0)]\n",
    "print(f\"Remaining images after removal: {len(df)}\")"
   ],
   "id": "8b1e20239fc21759",
   "outputs": [
    {
     "name": "stdout",
     "output_type": "stream",
     "text": [
      "Images with zero width/height:\n"
     ]
    },
    {
     "data": {
      "text/plain": [
       "          Filename  Class  Image_Width  Image_Height  A_Count  A_AvgX  A_AvgY  \\\n",
       "491  Judah_141.png  Judah          0.0           0.0      0.0     0.0     0.0   \n",
       "\n",
       "     A_StdX  A_StdY  A_BoxRatio  ...  Resh_AvgY  Resh_StdX  Resh_StdY  \\\n",
       "491     0.0     0.0         0.0  ...        0.0        0.0        0.0   \n",
       "\n",
       "     Resh_BoxRatio  Taf_Count  Taf_AvgX  Taf_AvgY  Taf_StdX  Taf_StdY  \\\n",
       "491            0.0        0.0       0.0       0.0       0.0       0.0   \n",
       "\n",
       "     Taf_BoxRatio  \n",
       "491           0.0  \n",
       "\n",
       "[1 rows x 88 columns]"
      ],
      "text/html": [
       "<div>\n",
       "<style scoped>\n",
       "    .dataframe tbody tr th:only-of-type {\n",
       "        vertical-align: middle;\n",
       "    }\n",
       "\n",
       "    .dataframe tbody tr th {\n",
       "        vertical-align: top;\n",
       "    }\n",
       "\n",
       "    .dataframe thead th {\n",
       "        text-align: right;\n",
       "    }\n",
       "</style>\n",
       "<table border=\"1\" class=\"dataframe\">\n",
       "  <thead>\n",
       "    <tr style=\"text-align: right;\">\n",
       "      <th></th>\n",
       "      <th>Filename</th>\n",
       "      <th>Class</th>\n",
       "      <th>Image_Width</th>\n",
       "      <th>Image_Height</th>\n",
       "      <th>A_Count</th>\n",
       "      <th>A_AvgX</th>\n",
       "      <th>A_AvgY</th>\n",
       "      <th>A_StdX</th>\n",
       "      <th>A_StdY</th>\n",
       "      <th>A_BoxRatio</th>\n",
       "      <th>...</th>\n",
       "      <th>Resh_AvgY</th>\n",
       "      <th>Resh_StdX</th>\n",
       "      <th>Resh_StdY</th>\n",
       "      <th>Resh_BoxRatio</th>\n",
       "      <th>Taf_Count</th>\n",
       "      <th>Taf_AvgX</th>\n",
       "      <th>Taf_AvgY</th>\n",
       "      <th>Taf_StdX</th>\n",
       "      <th>Taf_StdY</th>\n",
       "      <th>Taf_BoxRatio</th>\n",
       "    </tr>\n",
       "  </thead>\n",
       "  <tbody>\n",
       "    <tr>\n",
       "      <th>491</th>\n",
       "      <td>Judah_141.png</td>\n",
       "      <td>Judah</td>\n",
       "      <td>0.0</td>\n",
       "      <td>0.0</td>\n",
       "      <td>0.0</td>\n",
       "      <td>0.0</td>\n",
       "      <td>0.0</td>\n",
       "      <td>0.0</td>\n",
       "      <td>0.0</td>\n",
       "      <td>0.0</td>\n",
       "      <td>...</td>\n",
       "      <td>0.0</td>\n",
       "      <td>0.0</td>\n",
       "      <td>0.0</td>\n",
       "      <td>0.0</td>\n",
       "      <td>0.0</td>\n",
       "      <td>0.0</td>\n",
       "      <td>0.0</td>\n",
       "      <td>0.0</td>\n",
       "      <td>0.0</td>\n",
       "      <td>0.0</td>\n",
       "    </tr>\n",
       "  </tbody>\n",
       "</table>\n",
       "<p>1 rows × 88 columns</p>\n",
       "</div>"
      ]
     },
     "metadata": {},
     "output_type": "display_data"
    },
    {
     "name": "stdout",
     "output_type": "stream",
     "text": [
      "Remaining images after removal: 825\n"
     ]
    }
   ],
   "execution_count": 120
  },
  {
   "metadata": {
    "ExecuteTime": {
     "end_time": "2025-02-17T18:19:19.560628Z",
     "start_time": "2025-02-17T18:19:19.550913Z"
    }
   },
   "cell_type": "code",
   "source": [
    "# Drop the 'filename' column\n",
    "df_cleaned = df.drop(columns=[\"Filename\"], errors=\"ignore\")\n",
    "\n",
    "# Display first rows after removal\n",
    "df_cleaned.head()"
   ],
   "id": "e90baa41919999f6",
   "outputs": [
    {
     "data": {
      "text/plain": [
       "       Class  Image_Width  Image_Height  A_Count  A_AvgX  A_AvgY  A_StdX  \\\n",
       "0  Alexander       1880.0        1880.0      0.0     0.0     0.0     0.0   \n",
       "1  Alexander       1604.0        1604.0      0.0     0.0     0.0     0.0   \n",
       "2  Alexander        543.0         543.0      0.0     0.0     0.0     0.0   \n",
       "3  Alexander        521.0         521.0      0.0     0.0     0.0     0.0   \n",
       "4  Alexander        377.0         377.0      0.0     0.0     0.0     0.0   \n",
       "\n",
       "   A_StdY  A_BoxRatio  Bet_Count  ...  Resh_AvgY  Resh_StdX  Resh_StdY  \\\n",
       "0     0.0         0.0        1.0  ...     1063.0        0.0        0.0   \n",
       "1     0.0         0.0        1.0  ...        0.0        0.0        0.0   \n",
       "2     0.0         0.0        0.0  ...        0.0        0.0        0.0   \n",
       "3     0.0         0.0        1.0  ...      363.5        0.0        0.0   \n",
       "4     0.0         0.0        1.0  ...      277.5        0.0        0.0   \n",
       "\n",
       "   Resh_BoxRatio  Taf_Count  Taf_AvgX  Taf_AvgY  Taf_StdX  Taf_StdY  \\\n",
       "0       0.743902        1.0    1212.5     564.5       0.0       0.0   \n",
       "1       0.000000        0.0       0.0       0.0       0.0       0.0   \n",
       "2       0.000000        0.0       0.0       0.0       0.0       0.0   \n",
       "3       0.830986        1.0     208.0     228.0       0.0       0.0   \n",
       "4       0.698413        0.0       0.0       0.0       0.0       0.0   \n",
       "\n",
       "   Taf_BoxRatio  \n",
       "0      1.090452  \n",
       "1      0.000000  \n",
       "2      0.000000  \n",
       "3      0.729730  \n",
       "4      0.000000  \n",
       "\n",
       "[5 rows x 87 columns]"
      ],
      "text/html": [
       "<div>\n",
       "<style scoped>\n",
       "    .dataframe tbody tr th:only-of-type {\n",
       "        vertical-align: middle;\n",
       "    }\n",
       "\n",
       "    .dataframe tbody tr th {\n",
       "        vertical-align: top;\n",
       "    }\n",
       "\n",
       "    .dataframe thead th {\n",
       "        text-align: right;\n",
       "    }\n",
       "</style>\n",
       "<table border=\"1\" class=\"dataframe\">\n",
       "  <thead>\n",
       "    <tr style=\"text-align: right;\">\n",
       "      <th></th>\n",
       "      <th>Class</th>\n",
       "      <th>Image_Width</th>\n",
       "      <th>Image_Height</th>\n",
       "      <th>A_Count</th>\n",
       "      <th>A_AvgX</th>\n",
       "      <th>A_AvgY</th>\n",
       "      <th>A_StdX</th>\n",
       "      <th>A_StdY</th>\n",
       "      <th>A_BoxRatio</th>\n",
       "      <th>Bet_Count</th>\n",
       "      <th>...</th>\n",
       "      <th>Resh_AvgY</th>\n",
       "      <th>Resh_StdX</th>\n",
       "      <th>Resh_StdY</th>\n",
       "      <th>Resh_BoxRatio</th>\n",
       "      <th>Taf_Count</th>\n",
       "      <th>Taf_AvgX</th>\n",
       "      <th>Taf_AvgY</th>\n",
       "      <th>Taf_StdX</th>\n",
       "      <th>Taf_StdY</th>\n",
       "      <th>Taf_BoxRatio</th>\n",
       "    </tr>\n",
       "  </thead>\n",
       "  <tbody>\n",
       "    <tr>\n",
       "      <th>0</th>\n",
       "      <td>Alexander</td>\n",
       "      <td>1880.0</td>\n",
       "      <td>1880.0</td>\n",
       "      <td>0.0</td>\n",
       "      <td>0.0</td>\n",
       "      <td>0.0</td>\n",
       "      <td>0.0</td>\n",
       "      <td>0.0</td>\n",
       "      <td>0.0</td>\n",
       "      <td>1.0</td>\n",
       "      <td>...</td>\n",
       "      <td>1063.0</td>\n",
       "      <td>0.0</td>\n",
       "      <td>0.0</td>\n",
       "      <td>0.743902</td>\n",
       "      <td>1.0</td>\n",
       "      <td>1212.5</td>\n",
       "      <td>564.5</td>\n",
       "      <td>0.0</td>\n",
       "      <td>0.0</td>\n",
       "      <td>1.090452</td>\n",
       "    </tr>\n",
       "    <tr>\n",
       "      <th>1</th>\n",
       "      <td>Alexander</td>\n",
       "      <td>1604.0</td>\n",
       "      <td>1604.0</td>\n",
       "      <td>0.0</td>\n",
       "      <td>0.0</td>\n",
       "      <td>0.0</td>\n",
       "      <td>0.0</td>\n",
       "      <td>0.0</td>\n",
       "      <td>0.0</td>\n",
       "      <td>1.0</td>\n",
       "      <td>...</td>\n",
       "      <td>0.0</td>\n",
       "      <td>0.0</td>\n",
       "      <td>0.0</td>\n",
       "      <td>0.000000</td>\n",
       "      <td>0.0</td>\n",
       "      <td>0.0</td>\n",
       "      <td>0.0</td>\n",
       "      <td>0.0</td>\n",
       "      <td>0.0</td>\n",
       "      <td>0.000000</td>\n",
       "    </tr>\n",
       "    <tr>\n",
       "      <th>2</th>\n",
       "      <td>Alexander</td>\n",
       "      <td>543.0</td>\n",
       "      <td>543.0</td>\n",
       "      <td>0.0</td>\n",
       "      <td>0.0</td>\n",
       "      <td>0.0</td>\n",
       "      <td>0.0</td>\n",
       "      <td>0.0</td>\n",
       "      <td>0.0</td>\n",
       "      <td>0.0</td>\n",
       "      <td>...</td>\n",
       "      <td>0.0</td>\n",
       "      <td>0.0</td>\n",
       "      <td>0.0</td>\n",
       "      <td>0.000000</td>\n",
       "      <td>0.0</td>\n",
       "      <td>0.0</td>\n",
       "      <td>0.0</td>\n",
       "      <td>0.0</td>\n",
       "      <td>0.0</td>\n",
       "      <td>0.000000</td>\n",
       "    </tr>\n",
       "    <tr>\n",
       "      <th>3</th>\n",
       "      <td>Alexander</td>\n",
       "      <td>521.0</td>\n",
       "      <td>521.0</td>\n",
       "      <td>0.0</td>\n",
       "      <td>0.0</td>\n",
       "      <td>0.0</td>\n",
       "      <td>0.0</td>\n",
       "      <td>0.0</td>\n",
       "      <td>0.0</td>\n",
       "      <td>1.0</td>\n",
       "      <td>...</td>\n",
       "      <td>363.5</td>\n",
       "      <td>0.0</td>\n",
       "      <td>0.0</td>\n",
       "      <td>0.830986</td>\n",
       "      <td>1.0</td>\n",
       "      <td>208.0</td>\n",
       "      <td>228.0</td>\n",
       "      <td>0.0</td>\n",
       "      <td>0.0</td>\n",
       "      <td>0.729730</td>\n",
       "    </tr>\n",
       "    <tr>\n",
       "      <th>4</th>\n",
       "      <td>Alexander</td>\n",
       "      <td>377.0</td>\n",
       "      <td>377.0</td>\n",
       "      <td>0.0</td>\n",
       "      <td>0.0</td>\n",
       "      <td>0.0</td>\n",
       "      <td>0.0</td>\n",
       "      <td>0.0</td>\n",
       "      <td>0.0</td>\n",
       "      <td>1.0</td>\n",
       "      <td>...</td>\n",
       "      <td>277.5</td>\n",
       "      <td>0.0</td>\n",
       "      <td>0.0</td>\n",
       "      <td>0.698413</td>\n",
       "      <td>0.0</td>\n",
       "      <td>0.0</td>\n",
       "      <td>0.0</td>\n",
       "      <td>0.0</td>\n",
       "      <td>0.0</td>\n",
       "      <td>0.000000</td>\n",
       "    </tr>\n",
       "  </tbody>\n",
       "</table>\n",
       "<p>5 rows × 87 columns</p>\n",
       "</div>"
      ]
     },
     "execution_count": 121,
     "metadata": {},
     "output_type": "execute_result"
    }
   ],
   "execution_count": 121
  },
  {
   "metadata": {
    "ExecuteTime": {
     "end_time": "2025-02-17T18:19:19.662891Z",
     "start_time": "2025-02-17T18:19:19.659260Z"
    }
   },
   "cell_type": "code",
   "source": "len(df[df['Class']==\"Alexander\"]) , len(df[df['Class']==\"John\"]), len(df[df['Class']==\"Judah\"])",
   "id": "484623c8801765a7",
   "outputs": [
    {
     "data": {
      "text/plain": [
       "(199, 222, 404)"
      ]
     },
     "execution_count": 122,
     "metadata": {},
     "output_type": "execute_result"
    }
   ],
   "execution_count": 122
  },
  {
   "metadata": {
    "ExecuteTime": {
     "end_time": "2025-02-17T18:19:19.908623Z",
     "start_time": "2025-02-17T18:19:19.905244Z"
    }
   },
   "cell_type": "code",
   "source": [
    "# Check for missing values\n",
    "missing_values = df_cleaned.isnull().sum()\n",
    "print(\"Missing values per column:\")\n",
    "print(missing_values[missing_values > 0])"
   ],
   "id": "5b088722b26d4375",
   "outputs": [
    {
     "name": "stdout",
     "output_type": "stream",
     "text": [
      "Missing values per column:\n",
      "Series([], dtype: int64)\n"
     ]
    }
   ],
   "execution_count": 123
  },
  {
   "metadata": {
    "ExecuteTime": {
     "end_time": "2025-02-17T18:19:19.967942Z",
     "start_time": "2025-02-17T18:19:19.966171Z"
    }
   },
   "cell_type": "code",
   "source": [
    "# # Display summary statistics\n",
    "# print(df_cleaned.describe())\n",
    "#\n",
    "# # Plot distributions of numerical features\n",
    "# import matplotlib.pyplot as plt\n",
    "#\n",
    "# df_cleaned.hist(figsize=(12, 10), bins=30)\n",
    "# plt.show()"
   ],
   "id": "d81abf35a785e768",
   "outputs": [],
   "execution_count": 124
  },
  {
   "metadata": {
    "ExecuteTime": {
     "end_time": "2025-02-17T18:19:20.151330Z",
     "start_time": "2025-02-17T18:19:20.148922Z"
    }
   },
   "cell_type": "code",
   "source": [
    "# Drop Image_Width and Image_Height (not useful in final dataset)\n",
    "df_cleaned = df_cleaned.drop(columns=[\"Image_Width\", \"Image_Height\"])"
   ],
   "id": "662e75824e012d01",
   "outputs": [],
   "execution_count": 125
  },
  {
   "metadata": {
    "ExecuteTime": {
     "end_time": "2025-02-17T18:19:20.224469Z",
     "start_time": "2025-02-17T18:19:20.217629Z"
    }
   },
   "cell_type": "code",
   "source": [
    "# Save a separate copy of non-normalized data before modifying df_cleaned\n",
    "df_notNorm = df_cleaned.copy()"
   ],
   "id": "d5f033e017cb3c4b",
   "outputs": [],
   "execution_count": 126
  },
  {
   "metadata": {
    "ExecuteTime": {
     "end_time": "2025-02-17T18:19:20.242354Z",
     "start_time": "2025-02-17T18:19:20.235836Z"
    }
   },
   "cell_type": "code",
   "source": [
    "# Compute the total number of letters detected in each image\n",
    "letter_columns = [col for col in df_cleaned.columns if \"_Count\" in col]  # Find all letter count columns\n",
    "df_cleaned[\"Total_Letters\"] = df_cleaned[letter_columns].sum(axis=1)  # Sum all letter counts\n",
    "\n",
    "# Normalize counts by total detected letters\n",
    "for col in letter_columns:\n",
    "    df_cleaned[col] = df_cleaned[col] / df_cleaned[\"Total_Letters\"]\n",
    "\n",
    "# Fill NaN (if Total_Letters = 0)\n",
    "df_cleaned[letter_columns] = df_cleaned[letter_columns].fillna(0)"
   ],
   "id": "2140008520aaa786",
   "outputs": [],
   "execution_count": 127
  },
  {
   "metadata": {
    "ExecuteTime": {
     "end_time": "2025-02-17T18:19:20.325457Z",
     "start_time": "2025-02-17T18:19:20.318515Z"
    }
   },
   "cell_type": "code",
   "source": [
    "# Find all X and Y coordinate columns\n",
    "x_columns = [col for col in df_cleaned.columns if \"_AvgX\" in col]\n",
    "y_columns = [col for col in df_cleaned.columns if \"_AvgY\" in col]\n",
    "\n",
    "# Normalize by image width & height\n",
    "for col in x_columns:\n",
    "    df_cleaned[col] = df_cleaned[col] / df[\"Image_Width\"]\n",
    "\n",
    "for col in y_columns:\n",
    "    df_cleaned[col] = df_cleaned[col] / df[\"Image_Height\"]"
   ],
   "id": "7a04c9937a6f31ff",
   "outputs": [],
   "execution_count": 128
  },
  {
   "metadata": {
    "ExecuteTime": {
     "end_time": "2025-02-17T18:19:20.336064Z",
     "start_time": "2025-02-17T18:19:20.330432Z"
    }
   },
   "cell_type": "code",
   "source": [
    "std_x_columns = [col for col in df_cleaned.columns if \"_StdX\" in col]\n",
    "std_y_columns = [col for col in df_cleaned.columns if \"_StdY\" in col]\n",
    "\n",
    "# Normalize by image dimensions\n",
    "for col in std_x_columns:\n",
    "    df_cleaned[col] = df_cleaned[col] / df[\"Image_Width\"]\n",
    "\n",
    "for col in std_y_columns:\n",
    "    df_cleaned[col] = df_cleaned[col] / df[\"Image_Height\"]"
   ],
   "id": "f4898c7030bfc0db",
   "outputs": [],
   "execution_count": 129
  },
  {
   "metadata": {
    "ExecuteTime": {
     "end_time": "2025-02-17T18:19:20.377045Z",
     "start_time": "2025-02-17T18:19:20.373306Z"
    }
   },
   "cell_type": "code",
   "source": "df_cleaned = df_cleaned.drop(columns=[\"Total_Letters\"])  # No longer needed",
   "id": "51c8a3b2ac822a5d",
   "outputs": [],
   "execution_count": 130
  },
  {
   "metadata": {
    "ExecuteTime": {
     "end_time": "2025-02-17T18:19:20.451435Z",
     "start_time": "2025-02-17T18:19:20.434902Z"
    }
   },
   "cell_type": "code",
   "source": "df_cleaned.head() # Check if values look reasonable",
   "id": "c7bdf6c237406e75",
   "outputs": [
    {
     "data": {
      "text/plain": [
       "       Class  A_Count  A_AvgX  A_AvgY  A_StdX  A_StdY  A_BoxRatio  Bet_Count  \\\n",
       "0  Alexander      0.0     0.0     0.0     0.0     0.0         0.0   0.050000   \n",
       "1  Alexander      0.0     0.0     0.0     0.0     0.0         0.0   0.076923   \n",
       "2  Alexander      0.0     0.0     0.0     0.0     0.0         0.0   0.000000   \n",
       "3  Alexander      0.0     0.0     0.0     0.0     0.0         0.0   0.062500   \n",
       "4  Alexander      0.0     0.0     0.0     0.0     0.0         0.0   0.058824   \n",
       "\n",
       "   Bet_AvgX  Bet_AvgY  ...  Resh_AvgY  Resh_StdX  Resh_StdY  Resh_BoxRatio  \\\n",
       "0  0.641223  0.560106  ...   0.565426        0.0        0.0       0.743902   \n",
       "1  0.338840  0.544888  ...   0.000000        0.0        0.0       0.000000   \n",
       "2  0.000000  0.000000  ...   0.000000        0.0        0.0       0.000000   \n",
       "3  0.437620  0.718810  ...   0.697697        0.0        0.0       0.830986   \n",
       "4  0.641910  0.737401  ...   0.736074        0.0        0.0       0.698413   \n",
       "\n",
       "   Taf_Count  Taf_AvgX  Taf_AvgY  Taf_StdX  Taf_StdY  Taf_BoxRatio  \n",
       "0     0.0500  0.644947  0.300266       0.0       0.0      1.090452  \n",
       "1     0.0000  0.000000  0.000000       0.0       0.0      0.000000  \n",
       "2     0.0000  0.000000  0.000000       0.0       0.0      0.000000  \n",
       "3     0.0625  0.399232  0.437620       0.0       0.0      0.729730  \n",
       "4     0.0000  0.000000  0.000000       0.0       0.0      0.000000  \n",
       "\n",
       "[5 rows x 85 columns]"
      ],
      "text/html": [
       "<div>\n",
       "<style scoped>\n",
       "    .dataframe tbody tr th:only-of-type {\n",
       "        vertical-align: middle;\n",
       "    }\n",
       "\n",
       "    .dataframe tbody tr th {\n",
       "        vertical-align: top;\n",
       "    }\n",
       "\n",
       "    .dataframe thead th {\n",
       "        text-align: right;\n",
       "    }\n",
       "</style>\n",
       "<table border=\"1\" class=\"dataframe\">\n",
       "  <thead>\n",
       "    <tr style=\"text-align: right;\">\n",
       "      <th></th>\n",
       "      <th>Class</th>\n",
       "      <th>A_Count</th>\n",
       "      <th>A_AvgX</th>\n",
       "      <th>A_AvgY</th>\n",
       "      <th>A_StdX</th>\n",
       "      <th>A_StdY</th>\n",
       "      <th>A_BoxRatio</th>\n",
       "      <th>Bet_Count</th>\n",
       "      <th>Bet_AvgX</th>\n",
       "      <th>Bet_AvgY</th>\n",
       "      <th>...</th>\n",
       "      <th>Resh_AvgY</th>\n",
       "      <th>Resh_StdX</th>\n",
       "      <th>Resh_StdY</th>\n",
       "      <th>Resh_BoxRatio</th>\n",
       "      <th>Taf_Count</th>\n",
       "      <th>Taf_AvgX</th>\n",
       "      <th>Taf_AvgY</th>\n",
       "      <th>Taf_StdX</th>\n",
       "      <th>Taf_StdY</th>\n",
       "      <th>Taf_BoxRatio</th>\n",
       "    </tr>\n",
       "  </thead>\n",
       "  <tbody>\n",
       "    <tr>\n",
       "      <th>0</th>\n",
       "      <td>Alexander</td>\n",
       "      <td>0.0</td>\n",
       "      <td>0.0</td>\n",
       "      <td>0.0</td>\n",
       "      <td>0.0</td>\n",
       "      <td>0.0</td>\n",
       "      <td>0.0</td>\n",
       "      <td>0.050000</td>\n",
       "      <td>0.641223</td>\n",
       "      <td>0.560106</td>\n",
       "      <td>...</td>\n",
       "      <td>0.565426</td>\n",
       "      <td>0.0</td>\n",
       "      <td>0.0</td>\n",
       "      <td>0.743902</td>\n",
       "      <td>0.0500</td>\n",
       "      <td>0.644947</td>\n",
       "      <td>0.300266</td>\n",
       "      <td>0.0</td>\n",
       "      <td>0.0</td>\n",
       "      <td>1.090452</td>\n",
       "    </tr>\n",
       "    <tr>\n",
       "      <th>1</th>\n",
       "      <td>Alexander</td>\n",
       "      <td>0.0</td>\n",
       "      <td>0.0</td>\n",
       "      <td>0.0</td>\n",
       "      <td>0.0</td>\n",
       "      <td>0.0</td>\n",
       "      <td>0.0</td>\n",
       "      <td>0.076923</td>\n",
       "      <td>0.338840</td>\n",
       "      <td>0.544888</td>\n",
       "      <td>...</td>\n",
       "      <td>0.000000</td>\n",
       "      <td>0.0</td>\n",
       "      <td>0.0</td>\n",
       "      <td>0.000000</td>\n",
       "      <td>0.0000</td>\n",
       "      <td>0.000000</td>\n",
       "      <td>0.000000</td>\n",
       "      <td>0.0</td>\n",
       "      <td>0.0</td>\n",
       "      <td>0.000000</td>\n",
       "    </tr>\n",
       "    <tr>\n",
       "      <th>2</th>\n",
       "      <td>Alexander</td>\n",
       "      <td>0.0</td>\n",
       "      <td>0.0</td>\n",
       "      <td>0.0</td>\n",
       "      <td>0.0</td>\n",
       "      <td>0.0</td>\n",
       "      <td>0.0</td>\n",
       "      <td>0.000000</td>\n",
       "      <td>0.000000</td>\n",
       "      <td>0.000000</td>\n",
       "      <td>...</td>\n",
       "      <td>0.000000</td>\n",
       "      <td>0.0</td>\n",
       "      <td>0.0</td>\n",
       "      <td>0.000000</td>\n",
       "      <td>0.0000</td>\n",
       "      <td>0.000000</td>\n",
       "      <td>0.000000</td>\n",
       "      <td>0.0</td>\n",
       "      <td>0.0</td>\n",
       "      <td>0.000000</td>\n",
       "    </tr>\n",
       "    <tr>\n",
       "      <th>3</th>\n",
       "      <td>Alexander</td>\n",
       "      <td>0.0</td>\n",
       "      <td>0.0</td>\n",
       "      <td>0.0</td>\n",
       "      <td>0.0</td>\n",
       "      <td>0.0</td>\n",
       "      <td>0.0</td>\n",
       "      <td>0.062500</td>\n",
       "      <td>0.437620</td>\n",
       "      <td>0.718810</td>\n",
       "      <td>...</td>\n",
       "      <td>0.697697</td>\n",
       "      <td>0.0</td>\n",
       "      <td>0.0</td>\n",
       "      <td>0.830986</td>\n",
       "      <td>0.0625</td>\n",
       "      <td>0.399232</td>\n",
       "      <td>0.437620</td>\n",
       "      <td>0.0</td>\n",
       "      <td>0.0</td>\n",
       "      <td>0.729730</td>\n",
       "    </tr>\n",
       "    <tr>\n",
       "      <th>4</th>\n",
       "      <td>Alexander</td>\n",
       "      <td>0.0</td>\n",
       "      <td>0.0</td>\n",
       "      <td>0.0</td>\n",
       "      <td>0.0</td>\n",
       "      <td>0.0</td>\n",
       "      <td>0.0</td>\n",
       "      <td>0.058824</td>\n",
       "      <td>0.641910</td>\n",
       "      <td>0.737401</td>\n",
       "      <td>...</td>\n",
       "      <td>0.736074</td>\n",
       "      <td>0.0</td>\n",
       "      <td>0.0</td>\n",
       "      <td>0.698413</td>\n",
       "      <td>0.0000</td>\n",
       "      <td>0.000000</td>\n",
       "      <td>0.000000</td>\n",
       "      <td>0.0</td>\n",
       "      <td>0.0</td>\n",
       "      <td>0.000000</td>\n",
       "    </tr>\n",
       "  </tbody>\n",
       "</table>\n",
       "<p>5 rows × 85 columns</p>\n",
       "</div>"
      ]
     },
     "execution_count": 131,
     "metadata": {},
     "output_type": "execute_result"
    }
   ],
   "execution_count": 131
  },
  {
   "metadata": {
    "ExecuteTime": {
     "end_time": "2025-02-17T18:19:20.527586Z",
     "start_time": "2025-02-17T18:19:20.524622Z"
    }
   },
   "cell_type": "code",
   "source": [
    "from sklearn.preprocessing import LabelEncoder\n",
    "\n",
    "# Initialize label encoder\n",
    "label_encoder = LabelEncoder()\n",
    "\n",
    "# Encode the class labels\n",
    "df_cleaned[\"Class\"] = label_encoder.fit_transform(df_cleaned[\"Class\"])\n",
    "df_notNorm[\"Class\"] = label_encoder.transform(df_notNorm[\"Class\"])  # Apply same transformation\n",
    "\n",
    "# Save mapping for reference\n",
    "class_mapping = dict(zip(label_encoder.classes_, label_encoder.transform(label_encoder.classes_)))\n",
    "print(f\"✅ Class Encoding Mapping: {class_mapping}\")"
   ],
   "id": "e8f27eaf770dffc4",
   "outputs": [
    {
     "name": "stdout",
     "output_type": "stream",
     "text": [
      "✅ Class Encoding Mapping: {'Alexander': 0, 'John': 1, 'Judah': 2}\n"
     ]
    }
   ],
   "execution_count": 132
  },
  {
   "metadata": {
    "ExecuteTime": {
     "end_time": "2025-02-17T18:19:20.579497Z",
     "start_time": "2025-02-17T18:19:20.575078Z"
    }
   },
   "cell_type": "code",
   "source": [
    "from sklearn.model_selection import train_test_split\n",
    "\n",
    "# Separate features (X) and target (y)\n",
    "X = df_cleaned.drop(columns=[\"Class\"])  # Features\n",
    "y = df_cleaned[\"Class\"]  # Labels\n",
    "\n",
    "X_raw = df_notNorm.drop(columns=[\"Class\"])  # Features\n",
    "y_raw = df_notNorm[\"Class\"]"
   ],
   "id": "8d4e98e195030d46",
   "outputs": [],
   "execution_count": 133
  },
  {
   "metadata": {
    "ExecuteTime": {
     "end_time": "2025-02-17T18:19:20.616527Z",
     "start_time": "2025-02-17T18:19:20.608677Z"
    }
   },
   "cell_type": "code",
   "source": [
    "test_size = 0.1\n",
    "random_state = 42\n",
    "\n",
    "\n",
    "# 80% training, 20% testing\n",
    "X_train, X_test, y_train, y_test = train_test_split(\n",
    "    X, y, test_size=test_size, random_state=random_state, stratify=y\n",
    ")\n",
    "\n",
    "X_train_raw, X_test_raw, y_train_raw, y_test_raw = train_test_split(\n",
    "    X_raw, y_raw, test_size=test_size, random_state=random_state, stratify=df_notNorm[\"Class\"]\n",
    ")\n",
    "\n",
    "print(f\"Training samples: {len(X_train)}, Testing samples: {len(X_test)}\")"
   ],
   "id": "ebc908943a4088f6",
   "outputs": [
    {
     "name": "stdout",
     "output_type": "stream",
     "text": [
      "Training samples: 742, Testing samples: 83\n"
     ]
    }
   ],
   "execution_count": 134
  },
  {
   "metadata": {
    "ExecuteTime": {
     "end_time": "2025-02-17T18:19:20.774362Z",
     "start_time": "2025-02-17T18:19:20.766159Z"
    }
   },
   "cell_type": "code",
   "source": [
    "import numpy as np\n",
    "\n",
    "print(\"Feature Means:\\n\", X_train.mean(axis=0))\n",
    "print(\"\\nFeature Standard Deviations:\\n\", X_train.std(axis=0))"
   ],
   "id": "b53995541ce268b2",
   "outputs": [
    {
     "name": "stdout",
     "output_type": "stream",
     "text": [
      "Feature Means:\n",
      " A_Count         0.004118\n",
      "A_AvgX          0.045522\n",
      "A_AvgY          0.022356\n",
      "A_StdX          0.000000\n",
      "A_StdY          0.000000\n",
      "                  ...   \n",
      "Taf_AvgX        0.105331\n",
      "Taf_AvgY        0.065279\n",
      "Taf_StdX        0.000155\n",
      "Taf_StdY        0.000020\n",
      "Taf_BoxRatio    0.149400\n",
      "Length: 84, dtype: float64\n",
      "\n",
      "Feature Standard Deviations:\n",
      " A_Count         0.013576\n",
      "A_AvgX          0.147403\n",
      "A_AvgY          0.079447\n",
      "A_StdX          0.000000\n",
      "A_StdY          0.000000\n",
      "                  ...   \n",
      "Taf_AvgX        0.230824\n",
      "Taf_AvgY        0.145986\n",
      "Taf_StdX        0.003795\n",
      "Taf_StdY        0.000522\n",
      "Taf_BoxRatio    0.333294\n",
      "Length: 84, dtype: float64\n"
     ]
    }
   ],
   "execution_count": 135
  },
  {
   "metadata": {
    "ExecuteTime": {
     "end_time": "2025-02-17T18:19:22.221527Z",
     "start_time": "2025-02-17T18:19:20.838455Z"
    }
   },
   "cell_type": "code",
   "source": [
    "from sklearn.metrics import accuracy_score\n",
    "from sklearn.model_selection import GridSearchCV\n",
    "from sklearn.neighbors import KNeighborsClassifier\n",
    "\n",
    "# Define hyperparameters to test\n",
    "param_grid = {\n",
    "    \"n_neighbors\": [3, 5, 7, 9, 11, 15],\n",
    "    \"weights\": [\"uniform\", \"distance\"],\n",
    "    \"metric\": [\"euclidean\", \"manhattan\"]\n",
    "}\n",
    "\n",
    "# Initialize k-NN model\n",
    "knn = KNeighborsClassifier()\n",
    "\n",
    "# Use GridSearch to find the best combination\n",
    "grid_search = GridSearchCV(knn, param_grid, cv=5, scoring=\"accuracy\", n_jobs=-1)\n",
    "grid_search.fit(X_train, y_train)\n",
    "\n",
    "# Get the best parameters and accuracy\n",
    "best_params = grid_search.best_params_\n",
    "best_accuracy = grid_search.best_score_\n",
    "\n",
    "print(f\"✅ Best k-NN Parameters: {best_params}\")\n",
    "print(f\"✅ Best Cross-Validation Accuracy: {best_accuracy:.4f}\")\n",
    "\n",
    "# Train k-NN with the best parameters\n",
    "best_knn = KNeighborsClassifier(**best_params)\n",
    "best_knn.fit(X_train, y_train)\n",
    "\n",
    "# Evaluate on test set\n",
    "y_pred_best_knn = best_knn.predict(X_test)\n",
    "accuracy_best_knn = accuracy_score(y_test, y_pred_best_knn)\n",
    "\n",
    "print(f\"✅ Best k-NN Test Accuracy: {accuracy_best_knn:.4f}\")"
   ],
   "id": "b2826d46cf5fac31",
   "outputs": [
    {
     "name": "stdout",
     "output_type": "stream",
     "text": [
      "✅ Best k-NN Parameters: {'metric': 'manhattan', 'n_neighbors': 7, 'weights': 'distance'}\n",
      "✅ Best Cross-Validation Accuracy: 0.8638\n",
      "✅ Best k-NN Test Accuracy: 0.8554\n"
     ]
    }
   ],
   "execution_count": 136
  },
  {
   "metadata": {
    "ExecuteTime": {
     "end_time": "2025-02-17T18:19:30.627523Z",
     "start_time": "2025-02-17T18:19:22.333548Z"
    }
   },
   "cell_type": "code",
   "source": [
    "from sklearn.ensemble import RandomForestClassifier\n",
    "from sklearn.model_selection import GridSearchCV\n",
    "\n",
    "# Define hyperparameter grid\n",
    "param_grid = {\n",
    "    \"n_estimators\": [50, 100, 200],  # Number of trees\n",
    "    \"max_depth\": [None, 10, 20, 30],  # Max depth (None = unlimited)\n",
    "    \"min_samples_split\": [2, 5, 10],  # Minimum samples to split a node\n",
    "    \"min_samples_leaf\": [1, 2, 4]  # Minimum samples per leaf\n",
    "}\n",
    "\n",
    "# Initialize Random Forest\n",
    "rf = RandomForestClassifier(random_state=42)\n",
    "\n",
    "# Perform Grid Search with Cross-Validation\n",
    "grid_search = GridSearchCV(rf, param_grid, cv=5, scoring=\"accuracy\", n_jobs=-1)\n",
    "grid_search.fit(X_train_raw, y_train_raw)\n",
    "\n",
    "# Get best parameters\n",
    "best_rf_params = grid_search.best_params_\n",
    "best_rf_accuracy = grid_search.best_score_\n",
    "\n",
    "print(f\"✅ Best Random Forest Parameters: {best_rf_params}\")\n",
    "print(f\"✅ Best Cross-Validation Accuracy: {best_rf_accuracy:.4f}\")\n",
    "\n",
    "# Train best model\n",
    "best_rf = RandomForestClassifier(**best_rf_params, random_state=42)\n",
    "best_rf.fit(X_train_raw, y_train_raw)\n",
    "\n",
    "# Evaluate on test set\n",
    "y_pred_best_rf = best_rf.predict(X_test_raw)\n",
    "accuracy_best_rf = accuracy_score(y_test_raw, y_pred_best_rf)\n",
    "\n",
    "print(f\"✅ Best Random Forest Test Accuracy: {accuracy_best_rf:.4f}\")"
   ],
   "id": "dc194d82618281ba",
   "outputs": [
    {
     "name": "stdout",
     "output_type": "stream",
     "text": [
      "✅ Best Random Forest Parameters: {'max_depth': 10, 'min_samples_leaf': 2, 'min_samples_split': 2, 'n_estimators': 50}\n",
      "✅ Best Cross-Validation Accuracy: 0.9285\n",
      "✅ Best Random Forest Test Accuracy: 0.9157\n"
     ]
    }
   ],
   "execution_count": 137
  },
  {
   "metadata": {
    "ExecuteTime": {
     "end_time": "2025-02-17T18:19:38.711467Z",
     "start_time": "2025-02-17T18:19:30.678481Z"
    }
   },
   "cell_type": "code",
   "source": [
    "from xgboost import XGBClassifier\n",
    "from sklearn.model_selection import GridSearchCV\n",
    "\n",
    "# Define parameter grid\n",
    "param_grid_xgb = {\n",
    "    \"n_estimators\": [50, 100, 200],\n",
    "    \"max_depth\": [3, 5, 10],\n",
    "    \"learning_rate\": [0.01, 0.1, 0.2]\n",
    "}\n",
    "\n",
    "# Initialize XGBoost\n",
    "xgb = XGBClassifier(random_state=42, eval_metric=\"mlogloss\")\n",
    "\n",
    "# Perform Grid Search\n",
    "grid_search_xgb = GridSearchCV(xgb, param_grid_xgb, cv=5, scoring=\"accuracy\", n_jobs=-1)\n",
    "grid_search_xgb.fit(X_train_raw, y_train_raw)\n",
    "\n",
    "# Best parameters\n",
    "best_xgb_params = grid_search_xgb.best_params_\n",
    "best_xgb_accuracy = grid_search_xgb.best_score_\n",
    "\n",
    "print(f\"✅ Best XGBoost Parameters: {best_xgb_params}\")\n",
    "print(f\"✅ Best Cross-Validation Accuracy: {best_xgb_accuracy:.4f}\")\n",
    "\n",
    "# Train best XGBoost model\n",
    "best_xgb = XGBClassifier(**best_xgb_params, random_state=42)\n",
    "best_xgb.fit(X_train_raw, y_train_raw)\n",
    "\n",
    "# Evaluate on test set\n",
    "y_pred_xgb = best_xgb.predict(X_test_raw)\n",
    "accuracy_xgb = accuracy_score(y_test_raw, y_pred_xgb)\n",
    "\n",
    "print(f\"✅ Best XGBoost Test Accuracy: {accuracy_xgb:.4f}\")"
   ],
   "id": "7fc94d79a7389033",
   "outputs": [
    {
     "name": "stdout",
     "output_type": "stream",
     "text": [
      "✅ Best XGBoost Parameters: {'learning_rate': 0.2, 'max_depth': 10, 'n_estimators': 100}\n",
      "✅ Best Cross-Validation Accuracy: 0.9299\n",
      "✅ Best XGBoost Test Accuracy: 0.9639\n"
     ]
    }
   ],
   "execution_count": 138
  },
  {
   "metadata": {
    "ExecuteTime": {
     "end_time": "2025-02-17T18:19:39.309252Z",
     "start_time": "2025-02-17T18:19:38.755204Z"
    }
   },
   "cell_type": "code",
   "source": [
    "from sklearn.svm import SVC\n",
    "\n",
    "# Define parameter grid\n",
    "param_grid_svm = {\n",
    "    \"C\": [0.1, 1, 10],\n",
    "    \"gamma\": [\"scale\", \"auto\", 0.01, 0.1, 1],\n",
    "    \"kernel\": [\"linear\", \"rbf\"]\n",
    "}\n",
    "\n",
    "# Initialize SVM\n",
    "svm = SVC(random_state=42)\n",
    "\n",
    "# Perform Grid Search\n",
    "grid_search_svm = GridSearchCV(svm, param_grid_svm, cv=5, scoring=\"accuracy\", n_jobs=-1)\n",
    "grid_search_svm.fit(X_train, y_train)\n",
    "\n",
    "# Best parameters\n",
    "best_svm_params = grid_search_svm.best_params_\n",
    "best_svm_accuracy = grid_search_svm.best_score_\n",
    "\n",
    "print(f\"✅ Best SVM Parameters: {best_svm_params}\")\n",
    "print(f\"✅ Best Cross-Validation Accuracy: {best_svm_accuracy:.4f}\")\n",
    "\n",
    "# Train best SVM model\n",
    "best_svm = SVC(**best_svm_params, random_state=42)\n",
    "best_svm.fit(X_train, y_train)\n",
    "\n",
    "# Evaluate on test set\n",
    "y_pred_svm = best_svm.predict(X_test)\n",
    "accuracy_svm = accuracy_score(y_test, y_pred_svm)\n",
    "\n",
    "print(f\"✅ Best SVM Test Accuracy: {accuracy_svm:.4f}\")"
   ],
   "id": "ca28bb182ae79daf",
   "outputs": [
    {
     "name": "stdout",
     "output_type": "stream",
     "text": [
      "✅ Best SVM Parameters: {'C': 1, 'gamma': 'scale', 'kernel': 'linear'}\n",
      "✅ Best Cross-Validation Accuracy: 0.9312\n",
      "✅ Best SVM Test Accuracy: 0.9157\n"
     ]
    }
   ],
   "execution_count": 139
  },
  {
   "metadata": {
    "ExecuteTime": {
     "end_time": "2025-02-17T18:19:53.424716Z",
     "start_time": "2025-02-17T18:19:39.348472Z"
    }
   },
   "cell_type": "code",
   "source": [
    "from sklearn.neural_network import MLPClassifier\n",
    "\n",
    "# Define parameter grid\n",
    "param_grid_mlp = {\n",
    "    \"hidden_layer_sizes\": [(50,), (100,), (50, 50), (100, 50)],\n",
    "    \"activation\": [\"relu\", \"tanh\"],\n",
    "    \"alpha\": [0.0001, 0.001, 0.01]\n",
    "}\n",
    "\n",
    "# Initialize MLP\n",
    "mlp = MLPClassifier(max_iter=500, random_state=42)\n",
    "\n",
    "# Perform Grid Search\n",
    "grid_search_mlp = GridSearchCV(mlp, param_grid_mlp, cv=5, scoring=\"accuracy\", n_jobs=-1)\n",
    "grid_search_mlp.fit(X_train, y_train)\n",
    "\n",
    "# Best parameters\n",
    "best_mlp_params = grid_search_mlp.best_params_\n",
    "best_mlp_accuracy = grid_search_mlp.best_score_\n",
    "\n",
    "print(f\"✅ Best MLP Parameters: {best_mlp_params}\")\n",
    "print(f\"✅ Best Cross-Validation Accuracy: {best_mlp_accuracy:.4f}\")\n",
    "\n",
    "# Train best MLP model\n",
    "best_mlp = MLPClassifier(**best_mlp_params, max_iter=500, random_state=42)\n",
    "best_mlp.fit(X_train, y_train)\n",
    "\n",
    "# Evaluate on test set\n",
    "y_pred_mlp = best_mlp.predict(X_test)\n",
    "accuracy_mlp = accuracy_score(y_test, y_pred_mlp)\n",
    "\n",
    "print(f\"✅ Best MLP Test Accuracy: {accuracy_mlp:.4f}\")"
   ],
   "id": "1277f5227d016d31",
   "outputs": [
    {
     "name": "stdout",
     "output_type": "stream",
     "text": [
      "✅ Best MLP Parameters: {'activation': 'relu', 'alpha': 0.01, 'hidden_layer_sizes': (50, 50)}\n",
      "✅ Best Cross-Validation Accuracy: 0.9299\n",
      "✅ Best MLP Test Accuracy: 0.9639\n"
     ]
    }
   ],
   "execution_count": 140
  },
  {
   "metadata": {
    "ExecuteTime": {
     "end_time": "2025-02-17T18:19:54.064122Z",
     "start_time": "2025-02-17T18:19:53.553784Z"
    }
   },
   "cell_type": "code",
   "source": [
    "from sklearn.ensemble import VotingClassifier\n",
    "\n",
    "# Define the best models\n",
    "best_rf = RandomForestClassifier(n_estimators=50, max_depth=10, min_samples_split=2, min_samples_leaf=2, random_state=42)\n",
    "best_xgb = XGBClassifier(n_estimators=100, max_depth=10, learning_rate=0.2, random_state=42)\n",
    "best_knn = KNeighborsClassifier(n_neighbors=7, weights=\"distance\", metric=\"manhattan\")  # Adjust if SVM is better\n",
    "\n",
    "# Combine models into a voting classifier (majority rule)\n",
    "voting_clf = VotingClassifier(\n",
    "    estimators=[\n",
    "        ('xgb', best_xgb),\n",
    "        ('rf', best_rf),\n",
    "        ('knn', best_knn)  # Swap for SVM if needed\n",
    "    ],\n",
    "    voting='hard'  # \"hard\" means majority rule\n",
    ")\n",
    "\n",
    "# Train on raw data (since k-NN uses normalized data, we need to choose models carefully)\n",
    "voting_clf.fit(X_train_raw, y_train_raw)\n",
    "\n",
    "# Evaluate accuracy\n",
    "y_pred_voting = voting_clf.predict(X_test_raw)\n",
    "accuracy_voting = accuracy_score(y_test_raw, y_pred_voting)\n",
    "\n",
    "print(f\"⚡ Voting Classifier Accuracy: {accuracy_voting:.4f}\")"
   ],
   "id": "fe75012efe95f3ef",
   "outputs": [
    {
     "name": "stdout",
     "output_type": "stream",
     "text": [
      "⚡ Voting Classifier Accuracy: 0.9277\n"
     ]
    }
   ],
   "execution_count": 141
  },
  {
   "metadata": {
    "ExecuteTime": {
     "end_time": "2025-02-17T18:23:18.385771Z",
     "start_time": "2025-02-17T18:23:17.824466Z"
    }
   },
   "cell_type": "code",
   "source": [
    "import matplotlib.pyplot as plt\n",
    "import numpy as np\n",
    "\n",
    "# Train XGBoost if it hasn't been trained\n",
    "if not hasattr(best_xgb, \"feature_importances_\"):\n",
    "    best_xgb.fit(X_train_raw, y_train_raw)\n",
    "\n",
    "# Get feature importance\n",
    "feature_importance = best_xgb.feature_importances_\n",
    "feature_names = X_train_raw.columns\n",
    "\n",
    "# Sort features by importance\n",
    "sorted_idx = np.argsort(feature_importance)[::-1]\n",
    "\n",
    "# Plot top features\n",
    "plt.figure(figsize=(12, 6))\n",
    "plt.bar(range(len(feature_importance)), feature_importance[sorted_idx])\n",
    "plt.xticks(range(len(feature_importance)), np.array(feature_names)[sorted_idx], rotation=90)\n",
    "plt.title(\"Feature Importance in XGBoost\")\n",
    "plt.xlabel(\"Features\")\n",
    "plt.ylabel(\"Importance Score\")\n",
    "plt.show()"
   ],
   "id": "db94e744e1d01313",
   "outputs": [
    {
     "data": {
      "text/plain": [
       "<Figure size 1200x600 with 1 Axes>"
      ],
      "image/png": "[encoded data removed]"
     },
     "metadata": {},
     "output_type": "display_data"
    }
   ],
   "execution_count": 144
  },
  {
   "metadata": {
    "ExecuteTime": {
     "end_time": "2025-02-17T18:29:26.432495Z",
     "start_time": "2025-02-17T18:29:26.416206Z"
    }
   },
   "cell_type": "code",
   "source": [
    "import pandas as pd\n",
    "import numpy as np\n",
    "\n",
    "# Get feature importance from XGBoost\n",
    "feature_importance_df = pd.DataFrame(\n",
    "    {\"Feature\": X_train_raw.columns, \"Importance\": best_xgb.feature_importances_}\n",
    ")\n",
    "\n",
    "# Sort features by importance\n",
    "feature_importance_df = feature_importance_df.sort_values(by=\"Importance\", ascending=False)\n",
    "\n",
    "# Display top features\n",
    "print(\"🔹 Top Features Used for Classification:\")\n",
    "print(feature_importance_df.head(15))"
   ],
   "id": "7d36d056045087cd",
   "outputs": [
    {
     "name": "stdout",
     "output_type": "stream",
     "text": [
      "🔹 Top Features Used for Classification:\n",
      "           Feature  Importance\n",
      "66       Nun_Count    0.388330\n",
      "78       Taf_Count    0.142692\n",
      "40        Het_StdY    0.109986\n",
      "33        Vav_StdX    0.027087\n",
      "0          A_Count    0.017555\n",
      "58      Lamed_StdY    0.015306\n",
      "57      Lamed_StdX    0.015260\n",
      "76       Resh_StdY    0.012556\n",
      "61        Mem_AvgX    0.011454\n",
      "23  Dalet_BoxRatio    0.011189\n",
      "72      Resh_Count    0.011180\n",
      "25        Hei_AvgX    0.010642\n",
      "70        Nun_StdY    0.010179\n",
      "21      Dalet_StdX    0.008462\n",
      "8         Bet_AvgY    0.007869\n"
     ]
    }
   ],
   "execution_count": 145
  },
  {
   "metadata": {
    "ExecuteTime": {
     "end_time": "2025-02-17T18:34:41.381960Z",
     "start_time": "2025-02-17T18:34:40.721200Z"
    }
   },
   "cell_type": "code",
   "source": [
    "from xgboost import to_graphviz\n",
    "\n",
    "# Export the first tree to a Graphviz file\n",
    "tree_graph = to_graphviz(best_xgb, num_trees=0, rankdir=\"LR\")\n",
    "\n",
    "# Save as an SVG (scalable vector format, best for zooming)\n",
    "tree_graph.render(\"xgboost_tree\", format=\"svg\", cleanup=True)\n",
    "\n",
    "# Save as a PDF for high-quality printing\n",
    "tree_graph.render(\"xgboost_tree\", format=\"pdf\", cleanup=True)\n",
    "\n",
    "print(\"✅ Tree exported as 'xgboost_tree.svg' and 'xgboost_tree.pdf'.\")"
   ],
   "id": "125494f0b0e28c63",
   "outputs": [
    {
     "name": "stdout",
     "output_type": "stream",
     "text": [
      "✅ Tree exported as 'xgboost_tree.svg' and 'xgboost_tree.pdf'.\n"
     ]
    }
   ],
   "execution_count": 149
  },
  {
   "metadata": {
    "ExecuteTime": {
     "end_time": "2025-02-18T14:20:12.239725Z",
     "start_time": "2025-02-18T14:20:12.225184Z"
    }
   },
   "cell_type": "code",
   "source": [
    "import joblib\n",
    "\n",
    "# Save the trained XGBoost model\n",
    "joblib.dump(best_xgb, \"xgboost_ruler_classifier.pkl\")\n",
    "\n",
    "print(\"✅ Model saved as 'xgboost_ruler_classifier.pkl'\")"
   ],
   "id": "b12df455835b0bbc",
   "outputs": [
    {
     "name": "stdout",
     "output_type": "stream",
     "text": [
      "✅ Model saved as 'xgboost_ruler_classifier.pkl'\n"
     ]
    }
   ],
   "execution_count": 153
  },
  {
   "metadata": {
    "ExecuteTime": {
     "end_time": "2025-02-18T14:21:19.469232Z",
     "start_time": "2025-02-18T14:21:19.435092Z"
    }
   },
   "cell_type": "code",
   "source": [
    "# Load the saved model\n",
    "loaded_xgb = joblib.load(\"xgboost_ruler_classifier.pkl\")\n",
    "\n",
    "# Test if it predicts correctly\n",
    "sample_input = X_test_raw.iloc[:1]  # Take a single test example\n",
    "predicted_ruler = loaded_xgb.predict(sample_input)\n",
    "\n",
    "print(f\"✅ Model successfully loaded. Predicted class: {predicted_ruler[0]}\")"
   ],
   "id": "2cf363c49b90f0c6",
   "outputs": [
    {
     "name": "stdout",
     "output_type": "stream",
     "text": [
      "✅ Model successfully loaded. Predicted class: 2\n"
     ]
    }
   ],
   "execution_count": 154
  }
 ],
 "metadata": {
  "kernelspec": {
   "display_name": "Python 3",
   "language": "python",
   "name": "python3"
  },
  "language_info": {
   "codemirror_mode": {
    "name": "ipython",
    "version": 2
   },
   "file_extension": ".py",
   "mimetype": "text/x-python",
   "name": "python",
   "nbconvert_exporter": "python",
   "pygments_lexer": "ipython2",
   "version": "2.7.6"
  }
 },
 "nbformat": 4,
 "nbformat_minor": 5
}
