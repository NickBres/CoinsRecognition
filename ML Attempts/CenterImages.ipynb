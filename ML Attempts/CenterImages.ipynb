{
 "cells": [
  {
   "cell_type": "code",
   "execution_count": 3,
   "id": "initial_id",
   "metadata": {
    "collapsed": true,
    "ExecuteTime": {
     "end_time": "2024-11-26T09:48:55.261145Z",
     "start_time": "2024-11-26T09:48:55.253137Z"
    }
   },
   "outputs": [],
   "source": [
    "import os\n",
    "from PIL import Image, ImageOps"
   ]
  },
  {
   "cell_type": "code",
   "outputs": [],
   "source": [
    "def process_images_in_directory(input_dir, output_dir):\n",
    "    # Ensure the output directory exists\n",
    "    os.makedirs(output_dir, exist_ok=True)\n",
    "\n",
    "    # Iterate over all files in the input directory\n",
    "    for filename in os.listdir(input_dir):\n",
    "        # Construct full file path\n",
    "        input_path = os.path.join(input_dir, filename)\n",
    "\n",
    "        # Ensure the file is an image (optional: check by extension)\n",
    "        if not filename.lower().endswith(('.png', '.jpg', '.jpeg', '.tiff', '.bmp', '.gif')):\n",
    "            continue\n",
    "\n",
    "        try:\n",
    "            # Open the image\n",
    "            image = Image.open(input_path).convert(\"RGBA\")\n",
    "\n",
    "            # Get bounding box of non-transparent content\n",
    "            bbox = image.getbbox()\n",
    "\n",
    "            if bbox:\n",
    "                # Crop the image to the bounding box\n",
    "                cropped_image = image.crop(bbox)\n",
    "\n",
    "                # Determine the new square size dynamically based on the largest side of the content\n",
    "                max_side = max(cropped_image.size)\n",
    "\n",
    "                # Calculate padding to make the image square\n",
    "                padding = (\n",
    "                    (max_side - cropped_image.width) // 2,  # Left\n",
    "                    (max_side - cropped_image.height) // 2, # Top\n",
    "                    (max_side - cropped_image.width + 1) // 2,  # Right\n",
    "                    (max_side - cropped_image.height + 1) // 2, # Bottom\n",
    "                )\n",
    "\n",
    "                # Add padding and make the image square\n",
    "                squared_image = ImageOps.expand(cropped_image, padding, fill=(0, 0, 0, 0))\n",
    "\n",
    "                # Save the result to the output directory\n",
    "                output_path = os.path.join(output_dir, filename)\n",
    "                squared_image.save(output_path)\n",
    "            else:\n",
    "                print(f\"Skipping {filename}: No visible content!\")\n",
    "        except Exception as e:\n",
    "            print(f\"Error processing {filename}: {e}\")"
   ],
   "metadata": {
    "collapsed": false,
    "ExecuteTime": {
     "end_time": "2024-11-26T09:48:55.715509Z",
     "start_time": "2024-11-26T09:48:55.701545Z"
    }
   },
   "id": "740f9bb7595f1b94",
   "execution_count": 4
  },
  {
   "cell_type": "code",
   "outputs": [],
   "source": [
    "input_directory = r'D:\\Program Files (x86)\\Github\\CoinsRecognition\\john'\n",
    "output_directory = r'D:\\Program Files (x86)\\Github\\CoinsRecognition\\new_john'\n",
    "process_images_in_directory(input_directory, output_directory)"
   ],
   "metadata": {
    "collapsed": false,
    "ExecuteTime": {
     "end_time": "2024-11-26T09:57:05.016065Z",
     "start_time": "2024-11-26T09:53:58.644755Z"
    }
   },
   "id": "829996749e305485",
   "execution_count": 8
  },
  {
   "cell_type": "code",
   "outputs": [],
   "source": [],
   "metadata": {
    "collapsed": false
   },
   "id": "db6842f02bb00570"
  }
 ],
 "metadata": {
  "kernelspec": {
   "display_name": "Python 3",
   "language": "python",
   "name": "python3"
  },
  "language_info": {
   "codemirror_mode": {
    "name": "ipython",
    "version": 2
   },
   "file_extension": ".py",
   "mimetype": "text/x-python",
   "name": "python",
   "nbconvert_exporter": "python",
   "pygments_lexer": "ipython2",
   "version": "2.7.6"
  }
 },
 "nbformat": 4,
 "nbformat_minor": 5
}
